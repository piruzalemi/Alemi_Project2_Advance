{
 "cells": [
  {
   "cell_type": "code",
   "execution_count": 1,
   "metadata": {},
   "outputs": [],
   "source": [
    "%matplotlib inline\n",
    "from matplotlib import style\n",
    "style.use('fivethirtyeight')\n",
    "import matplotlib.pyplot as plt"
   ]
  },
  {
   "cell_type": "code",
   "execution_count": 2,
   "metadata": {},
   "outputs": [],
   "source": [
    "import numpy as np\n",
    "import pandas as pd"
   ]
  },
  {
   "cell_type": "code",
   "execution_count": 3,
   "metadata": {},
   "outputs": [],
   "source": [
    "import datetime as dt"
   ]
  },
  {
   "cell_type": "code",
   "execution_count": null,
   "metadata": {},
   "outputs": [],
   "source": []
  },
  {
   "cell_type": "code",
   "execution_count": 4,
   "metadata": {},
   "outputs": [
    {
     "name": "stdout",
     "output_type": "stream",
     "text": [
      "2020-03-11\n",
      "2017-01-31\n"
     ]
    }
   ],
   "source": [
    "# quick reveiw of date & Time\n",
    "# Print a date object and a datetime object \n",
    "print(dt.date.today())\n",
    "print(dt.date(2017, 1 ,31))"
   ]
  },
  {
   "cell_type": "code",
   "execution_count": 5,
   "metadata": {},
   "outputs": [
    {
     "name": "stdout",
     "output_type": "stream",
     "text": [
      "2020-03-11 17:13:01.715921\n",
      "2017-01-31 00:00:00\n"
     ]
    }
   ],
   "source": [
    "print(dt.datetime.utcnow())\n",
    "print(dt.datetime(2017, 1, 31))"
   ]
  },
  {
   "cell_type": "code",
   "execution_count": 6,
   "metadata": {},
   "outputs": [
    {
     "name": "stdout",
     "output_type": "stream",
     "text": [
      "2020-03-04\n"
     ]
    }
   ],
   "source": [
    "# date 1 week ago from today\n",
    "week_ago = dt.date.today() - dt.timedelta(days=7)\n",
    "print(week_ago)"
   ]
  },
  {
   "cell_type": "code",
   "execution_count": 7,
   "metadata": {},
   "outputs": [],
   "source": [
    "# date 1 week ago from today\n",
    "#month_ago = dt.date.today() - dt.timedelta(month=12)\n",
    "#print(month_ago)"
   ]
  },
  {
   "cell_type": "code",
   "execution_count": 8,
   "metadata": {},
   "outputs": [
    {
     "name": "stdout",
     "output_type": "stream",
     "text": [
      "2020-03-04\n"
     ]
    }
   ],
   "source": [
    "week_ago = dt.date.today() - dt.timedelta(days=7)\n",
    "print(week_ago)"
   ]
  },
  {
   "cell_type": "markdown",
   "metadata": {},
   "source": [
    "# Reflect Tables into SQLAlchemy ORM"
   ]
  },
  {
   "cell_type": "code",
   "execution_count": 9,
   "metadata": {},
   "outputs": [],
   "source": [
    "# Python SQL toolkit and Object Relational Mapper\n",
    "import sqlalchemy as db\n",
    "from sqlalchemy.ext.automap import automap_base\n",
    "from sqlalchemy.orm import Session\n",
    "from sqlalchemy import create_engine, func"
   ]
  },
  {
   "cell_type": "code",
   "execution_count": 10,
   "metadata": {
    "scrolled": false
   },
   "outputs": [],
   "source": [
    "#engine = create_engine(\"sqlite:///Resources/hawaii.sqlite\")\n",
    "#engine = create_engine(\"mysql://u:p@host/db\", pool_size=10, max_overflow=20)\n",
    "#engine = create_engine(\"sqlite:///SQL_ALCHEMY_Flask_Challenge/hawaii.sqlite\")\n",
    "engine = create_engine(\"sqlite:///hawaii.sqlite\")\n",
    "# engine = create_engine(\"sqlite:///../Resources/dow.sqlite\", echo=False)\n",
    "\n",
    "#https://docs.sqlalchemy.org/en/13/errors.html#error-e3q8)\n",
    "# SQLAlchemy errors can roughly be separated into two categories, the programming-time error and the runtime error.\n",
    "#Valid SQLite URL forms are:\n",
    "#                             sqlite:///:memory: (or, sqlite://) as in:\n",
    "#                                       engine = create_engine('sqlite:///:memory:', echo=True)\n",
    "#                             sqlite:///relative/path/to/file.db\n",
    "#                             sqlite:////absolute/path/to/file.db\n",
    "#\n",
    "# The return value of create_engine() is an instance of Engine, and it represents the core interface to the database,\n",
    "# adapted through a dialect that handles the details of the database \n",
    "# and DBAPI in use. In this case the SQLite dialect will interpret instructions to the Python built-in sqlite3 module."
   ]
  },
  {
   "cell_type": "code",
   "execution_count": 11,
   "metadata": {},
   "outputs": [],
   "source": [
    "\n",
    "session = Session(bind=engine)"
   ]
  },
  {
   "cell_type": "code",
   "execution_count": 12,
   "metadata": {},
   "outputs": [],
   "source": [
    "# reflect an existing database into a new model\n",
    "Base = automap_base()\n",
    "# reflect the tables\n",
    "Base.prepare(engine, reflect=True)"
   ]
  },
  {
   "cell_type": "code",
   "execution_count": 13,
   "metadata": {
    "scrolled": false
   },
   "outputs": [],
   "source": [
    "#   Should we not inspect the tables before we get Classes of database?\n",
    "#inspector = inspect(engine)\n",
    "#inspector.get_table_names()"
   ]
  },
  {
   "cell_type": "code",
   "execution_count": 14,
   "metadata": {},
   "outputs": [
    {
     "data": {
      "text/plain": [
       "['measurement', 'station']"
      ]
     },
     "execution_count": 14,
     "metadata": {},
     "output_type": "execute_result"
    }
   ],
   "source": [
    "# We can view all of the classes that automap found\n",
    "Base.classes.keys()"
   ]
  },
  {
   "cell_type": "code",
   "execution_count": 15,
   "metadata": {},
   "outputs": [],
   "source": [
    "# Save references to each table (whiic is defined as a class(es) in the DB: Base)\n",
    "Measurement = Base.classes.measurement\n",
    "Station = Base.classes.station\n"
   ]
  },
  {
   "cell_type": "code",
   "execution_count": 16,
   "metadata": {},
   "outputs": [],
   "source": [
    "from sqlalchemy.orm import sessionmaker\n",
    "#We’re now ready to start talking to the database. The ORM’s “handle” to the database is the Session. \n",
    "#When we first set up the application, at the same level as our create_engine() statement,\n",
    "#we define a Session class which will serve as a factory for new Session objects:"
   ]
  },
  {
   "cell_type": "code",
   "execution_count": 17,
   "metadata": {},
   "outputs": [],
   "source": [
    "# Create our session (link) from Python to the DB\n",
    "session = Session(engine)"
   ]
  },
  {
   "cell_type": "code",
   "execution_count": 18,
   "metadata": {},
   "outputs": [
    {
     "data": {
      "text/plain": [
       "[(1, 'USC00519397', '2010-01-01', 0.08, 65.0, None),\n",
       " (2, 'USC00519397', '2010-01-02', 0.0, 63.0, None),\n",
       " (3, 'USC00519397', '2010-01-03', 0.0, 74.0, None),\n",
       " (4, 'USC00519397', '2010-01-04', 0.0, 76.0, None),\n",
       " (5, 'USC00519397', '2010-01-06', None, 73.0, None)]"
      ]
     },
     "execution_count": 18,
     "metadata": {},
     "output_type": "execute_result"
    }
   ],
   "source": [
    "engine.execute('SELECT * FROM Measurement LIMIT 5').fetchall()"
   ]
  },
  {
   "cell_type": "code",
   "execution_count": null,
   "metadata": {},
   "outputs": [],
   "source": []
  },
  {
   "cell_type": "code",
   "execution_count": 19,
   "metadata": {
    "scrolled": false
   },
   "outputs": [],
   "source": [
    "# Query All Records in the the Database - Does same as above\n",
    "#data = engine.execute(\"SELECT * FROM Measurement\")\n",
    "#for record in data:\n",
    "#    print(record)\n",
    "    "
   ]
  },
  {
   "cell_type": "code",
   "execution_count": 20,
   "metadata": {},
   "outputs": [
    {
     "data": {
      "text/plain": [
       "[(1, 'USC00519397', 'WAIKIKI 717.2, HI US', 21.2716, -157.8168, 3.0),\n",
       " (2, 'USC00513117', 'KANEOHE 838.1, HI US', 21.4234, -157.8015, 14.6),\n",
       " (3, 'USC00514830', 'KUALOA RANCH HEADQUARTERS 886.9, HI US', 21.5213, -157.8374, 7.0),\n",
       " (4, 'USC00517948', 'PEARL CITY, HI US', 21.3934, -157.9751, 11.9),\n",
       " (5, 'USC00518838', 'UPPER WAHIAWA 874.3, HI US', 21.4992, -158.0111, 306.6)]"
      ]
     },
     "execution_count": 20,
     "metadata": {},
     "output_type": "execute_result"
    }
   ],
   "source": [
    "# Exploratory Climate Analysis\n",
    "engine.execute('SELECT * FROM Station LIMIT 5').fetchall()"
   ]
  },
  {
   "cell_type": "code",
   "execution_count": 21,
   "metadata": {
    "scrolled": false
   },
   "outputs": [
    {
     "name": "stdout",
     "output_type": "stream",
     "text": [
      "(1, 'USC00519397', '2010-01-01', 0.08, 65.0, None)\n",
      "(2, 'USC00519397', '2010-01-02', 0.0, 63.0, None)\n",
      "(3, 'USC00519397', '2010-01-03', 0.0, 74.0, None)\n",
      "(4, 'USC00519397', '2010-01-04', 0.0, 76.0, None)\n",
      "(5, 'USC00519397', '2010-01-06', None, 73.0, None)\n",
      "(6, 'USC00519397', '2010-01-07', 0.06, 70.0, None)\n",
      "(7, 'USC00519397', '2010-01-08', 0.0, 64.0, None)\n",
      "(8, 'USC00519397', '2010-01-09', 0.0, 68.0, None)\n",
      "(9, 'USC00519397', '2010-01-10', 0.0, 73.0, None)\n",
      "(10, 'USC00519397', '2010-01-11', 0.01, 64.0, None)\n",
      "(11, 'USC00519397', '2010-01-12', 0.0, 61.0, None)\n",
      "(12, 'USC00519397', '2010-01-14', 0.0, 66.0, None)\n"
     ]
    }
   ],
   "source": [
    "## Design a query to retrieve the last 12 days of precipitation data and plot the results\n",
    "# Query Single Record in the the Database\n",
    "# Note: This report is produced in Months in a different section, below.\n",
    "data = engine.execute(\"SELECT * FROM Measurement where Date<=2020-01-01 limit 12;\")\n",
    "#data = engine.execute(\"SELECT * FROM Measurement where Date<=2020-01-01;\")\n",
    "for record in data:\n",
    "    print(record)"
   ]
  },
  {
   "cell_type": "code",
   "execution_count": 22,
   "metadata": {},
   "outputs": [],
   "source": [
    "from sqlalchemy import create_engine, MetaData, Table, select"
   ]
  },
  {
   "cell_type": "code",
   "execution_count": 23,
   "metadata": {
    "scrolled": false
   },
   "outputs": [
    {
     "data": {
      "text/plain": [
       "['id', 'station', 'date', 'prcp', 'tobs', 'mmdd']"
      ]
     },
     "execution_count": 23,
     "metadata": {},
     "output_type": "execute_result"
    }
   ],
   "source": [
    "# ---------------------------------------------------------------------------------------\n",
    "# MetaData is a container object that keeps\n",
    "# together many different features of a database (or multiple databases) being described.\n",
    "# To represent a table, we use the Table class. Its two primary arguments are the table name,\n",
    "# then the MetaData object which it will be associated with. \n",
    "# The remaining positional arguments are mostly Column objects describing each column:\n",
    "# ---------------------------------------------------------------------------------------\n",
    "conn = engine.connect()\n",
    "metadata = MetaData(conn)\n",
    "t = Table(\"Measurement\", metadata, autoload=True)\n",
    "columns = [m.key for m in t.columns]\n",
    "columns"
   ]
  },
  {
   "cell_type": "code",
   "execution_count": 24,
   "metadata": {},
   "outputs": [
    {
     "data": {
      "text/plain": [
       "['id', 'station', 'name', 'latitude', 'longitude', 'elevation']"
      ]
     },
     "execution_count": 24,
     "metadata": {},
     "output_type": "execute_result"
    }
   ],
   "source": [
    "#conn = engine.connect()\n",
    "metadata = MetaData(conn)\n",
    "t = Table(\"Station\", metadata, autoload=True)\n",
    "columns = [m.key for m in t.columns]\n",
    "columns"
   ]
  },
  {
   "cell_type": "code",
   "execution_count": 25,
   "metadata": {},
   "outputs": [],
   "source": [
    "# Design a query to retrieve the last 12 months of precipitation data and plot the results\n",
    "\n",
    "# Calculate the date 1 year ago from the last data point in the database\n",
    "\n",
    "# Perform a query to retrieve the data and precipitation scores\n",
    "\n",
    "# Save the query results as a Pandas DataFrame and set the index to the date column\n",
    "\n",
    "# Sort the dataframe by date\n",
    "\n",
    "# Use Pandas Plotting with Matplotlib to plot the data\n"
   ]
  },
  {
   "cell_type": "code",
   "execution_count": 26,
   "metadata": {},
   "outputs": [],
   "source": [
    "# Alemi's note of Jan 8, 2020 - Get Table Names first\n",
    "#inspector = inspect(engine)\n",
    "#inspector.get_table_names()"
   ]
  },
  {
   "cell_type": "code",
   "execution_count": 27,
   "metadata": {},
   "outputs": [],
   "source": [
    "# Alemi's note: Get a list of column names and types\n",
    "#columns = inspector.get_columns('station')\n",
    "#for c in columns:\n",
    "#    print(c['name'], c[\"type\"])\n",
    "# columns"
   ]
  },
  {
   "cell_type": "code",
   "execution_count": 28,
   "metadata": {},
   "outputs": [
    {
     "data": {
      "text/plain": [
       "[(1, 'USC00519397', 'WAIKIKI 717.2, HI US', 21.2716, -157.8168, 3.0),\n",
       " (2, 'USC00513117', 'KANEOHE 838.1, HI US', 21.4234, -157.8015, 14.6),\n",
       " (3, 'USC00514830', 'KUALOA RANCH HEADQUARTERS 886.9, HI US', 21.5213, -157.8374, 7.0),\n",
       " (4, 'USC00517948', 'PEARL CITY, HI US', 21.3934, -157.9751, 11.9),\n",
       " (5, 'USC00518838', 'UPPER WAHIAWA 874.3, HI US', 21.4992, -158.0111, 306.6)]"
      ]
     },
     "execution_count": 28,
     "metadata": {},
     "output_type": "execute_result"
    }
   ],
   "source": [
    "engine.execute('SELECT * FROM Station LIMIT 5').fetchall()\n",
    "#engine.execute('SELECT * FROM station LIMIT 5').fetchall()  # must be a Table in a DB and not DB"
   ]
  },
  {
   "cell_type": "code",
   "execution_count": 29,
   "metadata": {},
   "outputs": [],
   "source": [
    "#----------------------------------------------------------------------------------------------------\n",
    "#                Equivalent to 'SELECT * FROM Station'\n",
    "#                     Note: imported sqlalchemy as db\n",
    "#----------------------------------------------------------------------------------------------------\n",
    "query1 = db.select([Station])\n",
    "query2 = db.select([Measurement])"
   ]
  },
  {
   "cell_type": "code",
   "execution_count": 30,
   "metadata": {},
   "outputs": [],
   "source": [
    "# ---------------------------------------------------------------------------------------------------\n",
    "# ResultProxy = connection.execute(query)\n",
    "# ResultProxy: The object returned by the .execute() method. It can be used in a variety of ways to get \n",
    "# the data returned by the query.\n",
    "# ---------------------------------------------------------------------------------------------------\n",
    "# -       There can be only one connection at a time, as each new connection attempts to flush the previous session\n",
    "# -       So we save the data in a dataframe, before making a second connection to the second table\n",
    "# --------------------------------------------------------------------------------------------------\n",
    "ResultProxy1 = conn.execute(query1)"
   ]
  },
  {
   "cell_type": "code",
   "execution_count": 31,
   "metadata": {},
   "outputs": [],
   "source": [
    "ResultSet1 = ResultProxy1.fetchall()"
   ]
  },
  {
   "cell_type": "code",
   "execution_count": 32,
   "metadata": {},
   "outputs": [
    {
     "data": {
      "text/plain": [
       "[(4, 'USC00517948', 'PEARL CITY, HI US', 21.3934, -157.9751, 11.9),\n",
       " (5, 'USC00518838', 'UPPER WAHIAWA 874.3, HI US', 21.4992, -158.0111, 306.6),\n",
       " (6, 'USC00519523', 'WAIMANALO EXPERIMENTAL FARM, HI US', 21.33556, -157.71139, 19.5),\n",
       " (7, 'USC00519281', 'WAIHEE 837.5, HI US', 21.45167, -157.84888999999998, 32.9),\n",
       " (8, 'USC00511918', 'HONOLULU OBSERVATORY 702.2, HI US', 21.3152, -157.9992, 0.9),\n",
       " (9, 'USC00516128', 'MANOA LYON ARBO 785.2, HI US', 21.3331, -157.8025, 152.4)]"
      ]
     },
     "execution_count": 32,
     "metadata": {},
     "output_type": "execute_result"
    }
   ],
   "source": [
    "#--------------------------------------------------------------------\n",
    "#       Print the first 3 rows, having fetched all()\n",
    "# .     Slice positions are [start say index 3, : for all rows] thus ResultSet1[3:]\n",
    "#-------------------------------------------------------------------\n",
    "ResultSet1[3:]\n",
    "#ResultSet1[::][2]"
   ]
  },
  {
   "cell_type": "code",
   "execution_count": 33,
   "metadata": {},
   "outputs": [
    {
     "data": {
      "text/html": [
       "<div>\n",
       "<style scoped>\n",
       "    .dataframe tbody tr th:only-of-type {\n",
       "        vertical-align: middle;\n",
       "    }\n",
       "\n",
       "    .dataframe tbody tr th {\n",
       "        vertical-align: top;\n",
       "    }\n",
       "\n",
       "    .dataframe thead th {\n",
       "        text-align: right;\n",
       "    }\n",
       "</style>\n",
       "<table border=\"1\" class=\"dataframe\">\n",
       "  <thead>\n",
       "    <tr style=\"text-align: right;\">\n",
       "      <th></th>\n",
       "      <th>id</th>\n",
       "      <th>station</th>\n",
       "      <th>name</th>\n",
       "      <th>latitude</th>\n",
       "      <th>longitude</th>\n",
       "      <th>elevation</th>\n",
       "    </tr>\n",
       "  </thead>\n",
       "  <tbody>\n",
       "    <tr>\n",
       "      <td>0</td>\n",
       "      <td>1</td>\n",
       "      <td>USC00519397</td>\n",
       "      <td>WAIKIKI 717.2, HI US</td>\n",
       "      <td>21.27160</td>\n",
       "      <td>-157.81680</td>\n",
       "      <td>3.0</td>\n",
       "    </tr>\n",
       "    <tr>\n",
       "      <td>1</td>\n",
       "      <td>2</td>\n",
       "      <td>USC00513117</td>\n",
       "      <td>KANEOHE 838.1, HI US</td>\n",
       "      <td>21.42340</td>\n",
       "      <td>-157.80150</td>\n",
       "      <td>14.6</td>\n",
       "    </tr>\n",
       "    <tr>\n",
       "      <td>2</td>\n",
       "      <td>3</td>\n",
       "      <td>USC00514830</td>\n",
       "      <td>KUALOA RANCH HEADQUARTERS 886.9, HI US</td>\n",
       "      <td>21.52130</td>\n",
       "      <td>-157.83740</td>\n",
       "      <td>7.0</td>\n",
       "    </tr>\n",
       "    <tr>\n",
       "      <td>3</td>\n",
       "      <td>4</td>\n",
       "      <td>USC00517948</td>\n",
       "      <td>PEARL CITY, HI US</td>\n",
       "      <td>21.39340</td>\n",
       "      <td>-157.97510</td>\n",
       "      <td>11.9</td>\n",
       "    </tr>\n",
       "    <tr>\n",
       "      <td>4</td>\n",
       "      <td>5</td>\n",
       "      <td>USC00518838</td>\n",
       "      <td>UPPER WAHIAWA 874.3, HI US</td>\n",
       "      <td>21.49920</td>\n",
       "      <td>-158.01110</td>\n",
       "      <td>306.6</td>\n",
       "    </tr>\n",
       "    <tr>\n",
       "      <td>5</td>\n",
       "      <td>6</td>\n",
       "      <td>USC00519523</td>\n",
       "      <td>WAIMANALO EXPERIMENTAL FARM, HI US</td>\n",
       "      <td>21.33556</td>\n",
       "      <td>-157.71139</td>\n",
       "      <td>19.5</td>\n",
       "    </tr>\n",
       "    <tr>\n",
       "      <td>6</td>\n",
       "      <td>7</td>\n",
       "      <td>USC00519281</td>\n",
       "      <td>WAIHEE 837.5, HI US</td>\n",
       "      <td>21.45167</td>\n",
       "      <td>-157.84889</td>\n",
       "      <td>32.9</td>\n",
       "    </tr>\n",
       "    <tr>\n",
       "      <td>7</td>\n",
       "      <td>8</td>\n",
       "      <td>USC00511918</td>\n",
       "      <td>HONOLULU OBSERVATORY 702.2, HI US</td>\n",
       "      <td>21.31520</td>\n",
       "      <td>-157.99920</td>\n",
       "      <td>0.9</td>\n",
       "    </tr>\n",
       "    <tr>\n",
       "      <td>8</td>\n",
       "      <td>9</td>\n",
       "      <td>USC00516128</td>\n",
       "      <td>MANOA LYON ARBO 785.2, HI US</td>\n",
       "      <td>21.33310</td>\n",
       "      <td>-157.80250</td>\n",
       "      <td>152.4</td>\n",
       "    </tr>\n",
       "  </tbody>\n",
       "</table>\n",
       "</div>"
      ],
      "text/plain": [
       "   id      station                                    name  latitude  \\\n",
       "0   1  USC00519397                    WAIKIKI 717.2, HI US  21.27160   \n",
       "1   2  USC00513117                    KANEOHE 838.1, HI US  21.42340   \n",
       "2   3  USC00514830  KUALOA RANCH HEADQUARTERS 886.9, HI US  21.52130   \n",
       "3   4  USC00517948                       PEARL CITY, HI US  21.39340   \n",
       "4   5  USC00518838              UPPER WAHIAWA 874.3, HI US  21.49920   \n",
       "5   6  USC00519523      WAIMANALO EXPERIMENTAL FARM, HI US  21.33556   \n",
       "6   7  USC00519281                     WAIHEE 837.5, HI US  21.45167   \n",
       "7   8  USC00511918       HONOLULU OBSERVATORY 702.2, HI US  21.31520   \n",
       "8   9  USC00516128            MANOA LYON ARBO 785.2, HI US  21.33310   \n",
       "\n",
       "   longitude  elevation  \n",
       "0 -157.81680        3.0  \n",
       "1 -157.80150       14.6  \n",
       "2 -157.83740        7.0  \n",
       "3 -157.97510       11.9  \n",
       "4 -158.01110      306.6  \n",
       "5 -157.71139       19.5  \n",
       "6 -157.84889       32.9  \n",
       "7 -157.99920        0.9  \n",
       "8 -157.80250      152.4  "
      ]
     },
     "execution_count": 33,
     "metadata": {},
     "output_type": "execute_result"
    }
   ],
   "source": [
    "# ----------------------------------------------------------------------------------\n",
    "# Convert the data to a data frame\n",
    "df1 = pd.DataFrame(ResultSet1)\n",
    "df1.columns = ResultSet1[0].keys()\n",
    "df1\n",
    "#------------------------------------- Station DF1--------------------------------------"
   ]
  },
  {
   "cell_type": "code",
   "execution_count": 34,
   "metadata": {},
   "outputs": [
    {
     "data": {
      "text/plain": [
       "[(1, 'USC00519397', '2010-01-01', 0.08, 65.0, None),\n",
       " (2, 'USC00519397', '2010-01-02', 0.0, 63.0, None),\n",
       " (3, 'USC00519397', '2010-01-03', 0.0, 74.0, None)]"
      ]
     },
     "execution_count": 34,
     "metadata": {},
     "output_type": "execute_result"
    }
   ],
   "source": [
    "ResultProxy2 = conn.execute(query2)\n",
    "ResultSet2 = ResultProxy2.fetchall()\n",
    "ResultSet2[:3]"
   ]
  },
  {
   "cell_type": "code",
   "execution_count": 35,
   "metadata": {},
   "outputs": [
    {
     "data": {
      "text/html": [
       "<div>\n",
       "<style scoped>\n",
       "    .dataframe tbody tr th:only-of-type {\n",
       "        vertical-align: middle;\n",
       "    }\n",
       "\n",
       "    .dataframe tbody tr th {\n",
       "        vertical-align: top;\n",
       "    }\n",
       "\n",
       "    .dataframe thead th {\n",
       "        text-align: right;\n",
       "    }\n",
       "</style>\n",
       "<table border=\"1\" class=\"dataframe\">\n",
       "  <thead>\n",
       "    <tr style=\"text-align: right;\">\n",
       "      <th></th>\n",
       "      <th>id</th>\n",
       "      <th>station</th>\n",
       "      <th>date</th>\n",
       "      <th>prcp</th>\n",
       "      <th>tobs</th>\n",
       "      <th>mmdd</th>\n",
       "    </tr>\n",
       "  </thead>\n",
       "  <tbody>\n",
       "    <tr>\n",
       "      <td>0</td>\n",
       "      <td>1</td>\n",
       "      <td>USC00519397</td>\n",
       "      <td>2010-01-01</td>\n",
       "      <td>0.08</td>\n",
       "      <td>65.0</td>\n",
       "      <td>None</td>\n",
       "    </tr>\n",
       "    <tr>\n",
       "      <td>1</td>\n",
       "      <td>2</td>\n",
       "      <td>USC00519397</td>\n",
       "      <td>2010-01-02</td>\n",
       "      <td>0.00</td>\n",
       "      <td>63.0</td>\n",
       "      <td>None</td>\n",
       "    </tr>\n",
       "    <tr>\n",
       "      <td>2</td>\n",
       "      <td>3</td>\n",
       "      <td>USC00519397</td>\n",
       "      <td>2010-01-03</td>\n",
       "      <td>0.00</td>\n",
       "      <td>74.0</td>\n",
       "      <td>None</td>\n",
       "    </tr>\n",
       "    <tr>\n",
       "      <td>3</td>\n",
       "      <td>4</td>\n",
       "      <td>USC00519397</td>\n",
       "      <td>2010-01-04</td>\n",
       "      <td>0.00</td>\n",
       "      <td>76.0</td>\n",
       "      <td>None</td>\n",
       "    </tr>\n",
       "    <tr>\n",
       "      <td>4</td>\n",
       "      <td>5</td>\n",
       "      <td>USC00519397</td>\n",
       "      <td>2010-01-06</td>\n",
       "      <td>NaN</td>\n",
       "      <td>73.0</td>\n",
       "      <td>None</td>\n",
       "    </tr>\n",
       "    <tr>\n",
       "      <td>...</td>\n",
       "      <td>...</td>\n",
       "      <td>...</td>\n",
       "      <td>...</td>\n",
       "      <td>...</td>\n",
       "      <td>...</td>\n",
       "      <td>...</td>\n",
       "    </tr>\n",
       "    <tr>\n",
       "      <td>19545</td>\n",
       "      <td>19546</td>\n",
       "      <td>USC00516128</td>\n",
       "      <td>2017-08-19</td>\n",
       "      <td>0.09</td>\n",
       "      <td>71.0</td>\n",
       "      <td>None</td>\n",
       "    </tr>\n",
       "    <tr>\n",
       "      <td>19546</td>\n",
       "      <td>19547</td>\n",
       "      <td>USC00516128</td>\n",
       "      <td>2017-08-20</td>\n",
       "      <td>NaN</td>\n",
       "      <td>78.0</td>\n",
       "      <td>None</td>\n",
       "    </tr>\n",
       "    <tr>\n",
       "      <td>19547</td>\n",
       "      <td>19548</td>\n",
       "      <td>USC00516128</td>\n",
       "      <td>2017-08-21</td>\n",
       "      <td>0.56</td>\n",
       "      <td>76.0</td>\n",
       "      <td>None</td>\n",
       "    </tr>\n",
       "    <tr>\n",
       "      <td>19548</td>\n",
       "      <td>19549</td>\n",
       "      <td>USC00516128</td>\n",
       "      <td>2017-08-22</td>\n",
       "      <td>0.50</td>\n",
       "      <td>76.0</td>\n",
       "      <td>None</td>\n",
       "    </tr>\n",
       "    <tr>\n",
       "      <td>19549</td>\n",
       "      <td>19550</td>\n",
       "      <td>USC00516128</td>\n",
       "      <td>2017-08-23</td>\n",
       "      <td>0.45</td>\n",
       "      <td>76.0</td>\n",
       "      <td>None</td>\n",
       "    </tr>\n",
       "  </tbody>\n",
       "</table>\n",
       "<p>19550 rows × 6 columns</p>\n",
       "</div>"
      ],
      "text/plain": [
       "          id      station        date  prcp  tobs  mmdd\n",
       "0          1  USC00519397  2010-01-01  0.08  65.0  None\n",
       "1          2  USC00519397  2010-01-02  0.00  63.0  None\n",
       "2          3  USC00519397  2010-01-03  0.00  74.0  None\n",
       "3          4  USC00519397  2010-01-04  0.00  76.0  None\n",
       "4          5  USC00519397  2010-01-06   NaN  73.0  None\n",
       "...      ...          ...         ...   ...   ...   ...\n",
       "19545  19546  USC00516128  2017-08-19  0.09  71.0  None\n",
       "19546  19547  USC00516128  2017-08-20   NaN  78.0  None\n",
       "19547  19548  USC00516128  2017-08-21  0.56  76.0  None\n",
       "19548  19549  USC00516128  2017-08-22  0.50  76.0  None\n",
       "19549  19550  USC00516128  2017-08-23  0.45  76.0  None\n",
       "\n",
       "[19550 rows x 6 columns]"
      ]
     },
     "execution_count": 35,
     "metadata": {},
     "output_type": "execute_result"
    }
   ],
   "source": [
    "# -----------------------------------------------------------------------------------------\n",
    "#               Convert all the data Querried to a data frame\n",
    "# Just as with many other pandas methods,\n",
    "# we will have to \"recreate\" dataframe in order for desired changes to take effect\n",
    "# . Row[0] will have the column names\n",
    "# -----------------------------------------------------------------------------------------\n",
    "df2 = pd.DataFrame(ResultSet2)\n",
    "df2.columns = ResultSet2[0].keys()\n",
    "df2.columns\n",
    "df2\n",
    "# -------------------------------------- Measurement DF2 --------------------------------------"
   ]
  },
  {
   "cell_type": "code",
   "execution_count": 36,
   "metadata": {},
   "outputs": [
    {
     "data": {
      "text/html": [
       "<div>\n",
       "<style scoped>\n",
       "    .dataframe tbody tr th:only-of-type {\n",
       "        vertical-align: middle;\n",
       "    }\n",
       "\n",
       "    .dataframe tbody tr th {\n",
       "        vertical-align: top;\n",
       "    }\n",
       "\n",
       "    .dataframe thead th {\n",
       "        text-align: right;\n",
       "    }\n",
       "</style>\n",
       "<table border=\"1\" class=\"dataframe\">\n",
       "  <thead>\n",
       "    <tr style=\"text-align: right;\">\n",
       "      <th></th>\n",
       "      <th>id</th>\n",
       "      <th>prcp</th>\n",
       "      <th>tobs</th>\n",
       "    </tr>\n",
       "  </thead>\n",
       "  <tbody>\n",
       "    <tr>\n",
       "      <td>count</td>\n",
       "      <td>19550.000000</td>\n",
       "      <td>18103.000000</td>\n",
       "      <td>19550.000000</td>\n",
       "    </tr>\n",
       "    <tr>\n",
       "      <td>mean</td>\n",
       "      <td>9775.500000</td>\n",
       "      <td>0.160644</td>\n",
       "      <td>73.097954</td>\n",
       "    </tr>\n",
       "    <tr>\n",
       "      <td>std</td>\n",
       "      <td>5643.743217</td>\n",
       "      <td>0.468746</td>\n",
       "      <td>4.523527</td>\n",
       "    </tr>\n",
       "    <tr>\n",
       "      <td>min</td>\n",
       "      <td>1.000000</td>\n",
       "      <td>0.000000</td>\n",
       "      <td>53.000000</td>\n",
       "    </tr>\n",
       "    <tr>\n",
       "      <td>25%</td>\n",
       "      <td>4888.250000</td>\n",
       "      <td>0.000000</td>\n",
       "      <td>70.000000</td>\n",
       "    </tr>\n",
       "    <tr>\n",
       "      <td>50%</td>\n",
       "      <td>9775.500000</td>\n",
       "      <td>0.010000</td>\n",
       "      <td>73.000000</td>\n",
       "    </tr>\n",
       "    <tr>\n",
       "      <td>75%</td>\n",
       "      <td>14662.750000</td>\n",
       "      <td>0.110000</td>\n",
       "      <td>76.000000</td>\n",
       "    </tr>\n",
       "    <tr>\n",
       "      <td>max</td>\n",
       "      <td>19550.000000</td>\n",
       "      <td>11.530000</td>\n",
       "      <td>87.000000</td>\n",
       "    </tr>\n",
       "  </tbody>\n",
       "</table>\n",
       "</div>"
      ],
      "text/plain": [
       "                 id          prcp          tobs\n",
       "count  19550.000000  18103.000000  19550.000000\n",
       "mean    9775.500000      0.160644     73.097954\n",
       "std     5643.743217      0.468746      4.523527\n",
       "min        1.000000      0.000000     53.000000\n",
       "25%     4888.250000      0.000000     70.000000\n",
       "50%     9775.500000      0.010000     73.000000\n",
       "75%    14662.750000      0.110000     76.000000\n",
       "max    19550.000000     11.530000     87.000000"
      ]
     },
     "execution_count": 36,
     "metadata": {},
     "output_type": "execute_result"
    }
   ],
   "source": [
    "# .        Basic Stats of Measurement Table\n",
    "#       It can also be filtered by any column values as in:\n",
    "#       It is smart enough! not to give stats on Station or date!!\n",
    "df2.describe()"
   ]
  },
  {
   "cell_type": "code",
   "execution_count": 37,
   "metadata": {},
   "outputs": [],
   "source": [
    "UniqueStation=df2.loc[df2['station'] == 'USC00514830']"
   ]
  },
  {
   "cell_type": "code",
   "execution_count": 38,
   "metadata": {},
   "outputs": [],
   "source": [
    "import seaborn as sns"
   ]
  },
  {
   "cell_type": "code",
   "execution_count": 39,
   "metadata": {},
   "outputs": [],
   "source": [
    "# to Export the UniqueStation Descriptions to an html file, so it can be exported to PNG file.\n",
    "html1 = UniqueStation.describe()\n",
    "#html = html1.render()"
   ]
  },
  {
   "cell_type": "code",
   "execution_count": 40,
   "metadata": {},
   "outputs": [
    {
     "data": {
      "text/html": [
       "<div>\n",
       "<style scoped>\n",
       "    .dataframe tbody tr th:only-of-type {\n",
       "        vertical-align: middle;\n",
       "    }\n",
       "\n",
       "    .dataframe tbody tr th {\n",
       "        vertical-align: top;\n",
       "    }\n",
       "\n",
       "    .dataframe thead th {\n",
       "        text-align: right;\n",
       "    }\n",
       "</style>\n",
       "<table border=\"1\" class=\"dataframe\">\n",
       "  <thead>\n",
       "    <tr style=\"text-align: right;\">\n",
       "      <th></th>\n",
       "      <th>id</th>\n",
       "      <th>prcp</th>\n",
       "      <th>tobs</th>\n",
       "    </tr>\n",
       "  </thead>\n",
       "  <tbody>\n",
       "    <tr>\n",
       "      <td>count</td>\n",
       "      <td>2202.000000</td>\n",
       "      <td>1937.000000</td>\n",
       "      <td>2202.000000</td>\n",
       "    </tr>\n",
       "    <tr>\n",
       "      <td>mean</td>\n",
       "      <td>6534.500000</td>\n",
       "      <td>0.121058</td>\n",
       "      <td>74.873297</td>\n",
       "    </tr>\n",
       "    <tr>\n",
       "      <td>std</td>\n",
       "      <td>635.806968</td>\n",
       "      <td>0.413812</td>\n",
       "      <td>3.812367</td>\n",
       "    </tr>\n",
       "    <tr>\n",
       "      <td>min</td>\n",
       "      <td>5434.000000</td>\n",
       "      <td>0.000000</td>\n",
       "      <td>58.000000</td>\n",
       "    </tr>\n",
       "    <tr>\n",
       "      <td>25%</td>\n",
       "      <td>5984.250000</td>\n",
       "      <td>0.000000</td>\n",
       "      <td>72.000000</td>\n",
       "    </tr>\n",
       "    <tr>\n",
       "      <td>50%</td>\n",
       "      <td>6534.500000</td>\n",
       "      <td>0.020000</td>\n",
       "      <td>75.000000</td>\n",
       "    </tr>\n",
       "    <tr>\n",
       "      <td>75%</td>\n",
       "      <td>7084.750000</td>\n",
       "      <td>0.100000</td>\n",
       "      <td>78.000000</td>\n",
       "    </tr>\n",
       "    <tr>\n",
       "      <td>max</td>\n",
       "      <td>7635.000000</td>\n",
       "      <td>11.530000</td>\n",
       "      <td>85.000000</td>\n",
       "    </tr>\n",
       "  </tbody>\n",
       "</table>\n",
       "</div>"
      ],
      "text/plain": [
       "                id         prcp         tobs\n",
       "count  2202.000000  1937.000000  2202.000000\n",
       "mean   6534.500000     0.121058    74.873297\n",
       "std     635.806968     0.413812     3.812367\n",
       "min    5434.000000     0.000000    58.000000\n",
       "25%    5984.250000     0.000000    72.000000\n",
       "50%    6534.500000     0.020000    75.000000\n",
       "75%    7084.750000     0.100000    78.000000\n",
       "max    7635.000000    11.530000    85.000000"
      ]
     },
     "execution_count": 40,
     "metadata": {},
     "output_type": "execute_result"
    }
   ],
   "source": [
    "UniqueStation.describe()"
   ]
  },
  {
   "cell_type": "code",
   "execution_count": 41,
   "metadata": {},
   "outputs": [
    {
     "data": {
      "text/html": [
       "<div>\n",
       "<style scoped>\n",
       "    .dataframe tbody tr th:only-of-type {\n",
       "        vertical-align: middle;\n",
       "    }\n",
       "\n",
       "    .dataframe tbody tr th {\n",
       "        vertical-align: top;\n",
       "    }\n",
       "\n",
       "    .dataframe thead th {\n",
       "        text-align: right;\n",
       "    }\n",
       "</style>\n",
       "<table border=\"1\" class=\"dataframe\">\n",
       "  <thead>\n",
       "    <tr style=\"text-align: right;\">\n",
       "      <th></th>\n",
       "      <th>id</th>\n",
       "      <th>station</th>\n",
       "      <th>date</th>\n",
       "      <th>prcp</th>\n",
       "      <th>tobs</th>\n",
       "      <th>mmdd</th>\n",
       "    </tr>\n",
       "  </thead>\n",
       "  <tbody>\n",
       "    <tr>\n",
       "      <td>0</td>\n",
       "      <td>1</td>\n",
       "      <td>USC00519397</td>\n",
       "      <td>2010-01-01</td>\n",
       "      <td>0.08</td>\n",
       "      <td>65.0</td>\n",
       "      <td>None</td>\n",
       "    </tr>\n",
       "    <tr>\n",
       "      <td>9007</td>\n",
       "      <td>9008</td>\n",
       "      <td>USC00518838</td>\n",
       "      <td>2010-01-01</td>\n",
       "      <td>0.21</td>\n",
       "      <td>72.0</td>\n",
       "      <td>None</td>\n",
       "    </tr>\n",
       "    <tr>\n",
       "      <td>9518</td>\n",
       "      <td>9519</td>\n",
       "      <td>USC00519523</td>\n",
       "      <td>2010-01-01</td>\n",
       "      <td>0.15</td>\n",
       "      <td>75.0</td>\n",
       "      <td>None</td>\n",
       "    </tr>\n",
       "    <tr>\n",
       "      <td>12187</td>\n",
       "      <td>12188</td>\n",
       "      <td>USC00519281</td>\n",
       "      <td>2010-01-01</td>\n",
       "      <td>0.15</td>\n",
       "      <td>70.0</td>\n",
       "      <td>None</td>\n",
       "    </tr>\n",
       "    <tr>\n",
       "      <td>14959</td>\n",
       "      <td>14960</td>\n",
       "      <td>USC00511918</td>\n",
       "      <td>2010-01-01</td>\n",
       "      <td>0.05</td>\n",
       "      <td>66.0</td>\n",
       "      <td>None</td>\n",
       "    </tr>\n",
       "    <tr>\n",
       "      <td>...</td>\n",
       "      <td>...</td>\n",
       "      <td>...</td>\n",
       "      <td>...</td>\n",
       "      <td>...</td>\n",
       "      <td>...</td>\n",
       "      <td>...</td>\n",
       "    </tr>\n",
       "    <tr>\n",
       "      <td>19548</td>\n",
       "      <td>19549</td>\n",
       "      <td>USC00516128</td>\n",
       "      <td>2017-08-22</td>\n",
       "      <td>0.50</td>\n",
       "      <td>76.0</td>\n",
       "      <td>None</td>\n",
       "    </tr>\n",
       "    <tr>\n",
       "      <td>2723</td>\n",
       "      <td>2724</td>\n",
       "      <td>USC00519397</td>\n",
       "      <td>2017-08-23</td>\n",
       "      <td>0.00</td>\n",
       "      <td>81.0</td>\n",
       "      <td>None</td>\n",
       "    </tr>\n",
       "    <tr>\n",
       "      <td>7634</td>\n",
       "      <td>7635</td>\n",
       "      <td>USC00514830</td>\n",
       "      <td>2017-08-23</td>\n",
       "      <td>0.00</td>\n",
       "      <td>82.0</td>\n",
       "      <td>None</td>\n",
       "    </tr>\n",
       "    <tr>\n",
       "      <td>12186</td>\n",
       "      <td>12187</td>\n",
       "      <td>USC00519523</td>\n",
       "      <td>2017-08-23</td>\n",
       "      <td>0.08</td>\n",
       "      <td>82.0</td>\n",
       "      <td>None</td>\n",
       "    </tr>\n",
       "    <tr>\n",
       "      <td>19549</td>\n",
       "      <td>19550</td>\n",
       "      <td>USC00516128</td>\n",
       "      <td>2017-08-23</td>\n",
       "      <td>0.45</td>\n",
       "      <td>76.0</td>\n",
       "      <td>None</td>\n",
       "    </tr>\n",
       "  </tbody>\n",
       "</table>\n",
       "<p>19550 rows × 6 columns</p>\n",
       "</div>"
      ],
      "text/plain": [
       "          id      station        date  prcp  tobs  mmdd\n",
       "0          1  USC00519397  2010-01-01  0.08  65.0  None\n",
       "9007    9008  USC00518838  2010-01-01  0.21  72.0  None\n",
       "9518    9519  USC00519523  2010-01-01  0.15  75.0  None\n",
       "12187  12188  USC00519281  2010-01-01  0.15  70.0  None\n",
       "14959  14960  USC00511918  2010-01-01  0.05  66.0  None\n",
       "...      ...          ...         ...   ...   ...   ...\n",
       "19548  19549  USC00516128  2017-08-22  0.50  76.0  None\n",
       "2723    2724  USC00519397  2017-08-23  0.00  81.0  None\n",
       "7634    7635  USC00514830  2017-08-23  0.00  82.0  None\n",
       "12186  12187  USC00519523  2017-08-23  0.08  82.0  None\n",
       "19549  19550  USC00516128  2017-08-23  0.45  76.0  None\n",
       "\n",
       "[19550 rows x 6 columns]"
      ]
     },
     "execution_count": 41,
     "metadata": {},
     "output_type": "execute_result"
    }
   ],
   "source": [
    "# -----------------------------------------------\n",
    "#                      S O R T\n",
    "#         Sort column with name Date\n",
    "# -----------------------------------------------\n",
    "dfs = df2.sort_values(by = 'date')\n",
    "dfs"
   ]
  },
  {
   "cell_type": "code",
   "execution_count": 42,
   "metadata": {},
   "outputs": [
    {
     "data": {
      "text/plain": [
       "87.0"
      ]
     },
     "execution_count": 42,
     "metadata": {},
     "output_type": "execute_result"
    }
   ],
   "source": [
    "max(df2.tobs)"
   ]
  },
  {
   "cell_type": "code",
   "execution_count": null,
   "metadata": {},
   "outputs": [],
   "source": []
  },
  {
   "cell_type": "code",
   "execution_count": 43,
   "metadata": {
    "scrolled": true
   },
   "outputs": [
    {
     "data": {
      "text/html": [
       "<div>\n",
       "<style scoped>\n",
       "    .dataframe tbody tr th:only-of-type {\n",
       "        vertical-align: middle;\n",
       "    }\n",
       "\n",
       "    .dataframe tbody tr th {\n",
       "        vertical-align: top;\n",
       "    }\n",
       "\n",
       "    .dataframe thead th {\n",
       "        text-align: right;\n",
       "    }\n",
       "</style>\n",
       "<table border=\"1\" class=\"dataframe\">\n",
       "  <thead>\n",
       "    <tr style=\"text-align: right;\">\n",
       "      <th></th>\n",
       "      <th>id</th>\n",
       "      <th>station</th>\n",
       "      <th>date</th>\n",
       "      <th>prcp</th>\n",
       "      <th>tobs</th>\n",
       "      <th>mmdd</th>\n",
       "    </tr>\n",
       "  </thead>\n",
       "  <tbody>\n",
       "    <tr>\n",
       "      <td>212</td>\n",
       "      <td>213</td>\n",
       "      <td>USC00519397</td>\n",
       "      <td>2010-08-23</td>\n",
       "      <td>0.01</td>\n",
       "      <td>87.0</td>\n",
       "      <td>None</td>\n",
       "    </tr>\n",
       "    <tr>\n",
       "      <td>2635</td>\n",
       "      <td>2636</td>\n",
       "      <td>USC00519397</td>\n",
       "      <td>2017-05-23</td>\n",
       "      <td>0.08</td>\n",
       "      <td>87.0</td>\n",
       "      <td>None</td>\n",
       "    </tr>\n",
       "    <tr>\n",
       "      <td>8990</td>\n",
       "      <td>8991</td>\n",
       "      <td>USC00517948</td>\n",
       "      <td>2017-07-03</td>\n",
       "      <td>NaN</td>\n",
       "      <td>87.0</td>\n",
       "      <td>None</td>\n",
       "    </tr>\n",
       "    <tr>\n",
       "      <td>15209</td>\n",
       "      <td>15210</td>\n",
       "      <td>USC00511918</td>\n",
       "      <td>2010-09-19</td>\n",
       "      <td>0.00</td>\n",
       "      <td>87.0</td>\n",
       "      <td>None</td>\n",
       "    </tr>\n",
       "  </tbody>\n",
       "</table>\n",
       "</div>"
      ],
      "text/plain": [
       "          id      station        date  prcp  tobs  mmdd\n",
       "212      213  USC00519397  2010-08-23  0.01  87.0  None\n",
       "2635    2636  USC00519397  2017-05-23  0.08  87.0  None\n",
       "8990    8991  USC00517948  2017-07-03   NaN  87.0  None\n",
       "15209  15210  USC00511918  2010-09-19  0.00  87.0  None"
      ]
     },
     "execution_count": 43,
     "metadata": {},
     "output_type": "execute_result"
    }
   ],
   "source": [
    "df2.query('tobs == 87')"
   ]
  },
  {
   "cell_type": "code",
   "execution_count": 44,
   "metadata": {},
   "outputs": [
    {
     "data": {
      "text/plain": [
       "87.0"
      ]
     },
     "execution_count": 44,
     "metadata": {},
     "output_type": "execute_result"
    }
   ],
   "source": [
    "df2['tobs'].max()\n",
    "# .  use the second....."
   ]
  },
  {
   "cell_type": "code",
   "execution_count": 45,
   "metadata": {},
   "outputs": [
    {
     "name": "stdout",
     "output_type": "stream",
     "text": [
      "2019-03-12\n"
     ]
    }
   ],
   "source": [
    "Year_ago = dt.date.today() - dt.timedelta(days=365)\n",
    "print(Year_ago)\n"
   ]
  },
  {
   "cell_type": "code",
   "execution_count": 46,
   "metadata": {
    "scrolled": false
   },
   "outputs": [
    {
     "name": "stdout",
     "output_type": "stream",
     "text": [
      "2019-03-12\n",
      "2020-03-11\n"
     ]
    }
   ],
   "source": [
    "# date 1 week ago from today\n",
    "#year_ago = dt.date.today() - dt.timedelta(days=365)\n",
    "year_ago = dt.date.today() - dt.timedelta(days=365)\n",
    "print(year_ago)\n",
    "print(dt.date.today())"
   ]
  },
  {
   "cell_type": "code",
   "execution_count": 47,
   "metadata": {},
   "outputs": [
    {
     "data": {
      "text/plain": [
       "'2017-08-23'"
      ]
     },
     "execution_count": 47,
     "metadata": {},
     "output_type": "execute_result"
    }
   ],
   "source": [
    "max(df2.date)"
   ]
  },
  {
   "cell_type": "code",
   "execution_count": 48,
   "metadata": {},
   "outputs": [
    {
     "data": {
      "text/plain": [
       "'2017-06-18'"
      ]
     },
     "execution_count": 48,
     "metadata": {},
     "output_type": "execute_result"
    }
   ],
   "source": [
    "# -------------------------------------------------------------------------------------------------------------\n",
    "# -                       Date of a year ago relative to the last date in the  S O R T E D data frame\n",
    "# -                       abstracting from Leap years\n",
    "# -------------------------------------------------------------------------------------------------------------\n",
    "dfs['date'].iloc[-365]"
   ]
  },
  {
   "cell_type": "code",
   "execution_count": 49,
   "metadata": {},
   "outputs": [],
   "source": [
    "#print(dt.timedelta(days=365))"
   ]
  },
  {
   "cell_type": "code",
   "execution_count": 50,
   "metadata": {},
   "outputs": [
    {
     "data": {
      "text/html": [
       "<div>\n",
       "<style scoped>\n",
       "    .dataframe tbody tr th:only-of-type {\n",
       "        vertical-align: middle;\n",
       "    }\n",
       "\n",
       "    .dataframe tbody tr th {\n",
       "        vertical-align: top;\n",
       "    }\n",
       "\n",
       "    .dataframe thead th {\n",
       "        text-align: right;\n",
       "    }\n",
       "</style>\n",
       "<table border=\"1\" class=\"dataframe\">\n",
       "  <thead>\n",
       "    <tr style=\"text-align: right;\">\n",
       "      <th></th>\n",
       "      <th>id</th>\n",
       "      <th>station</th>\n",
       "      <th>date</th>\n",
       "      <th>prcp</th>\n",
       "      <th>tobs</th>\n",
       "      <th>mmdd</th>\n",
       "      <th>scalar_date</th>\n",
       "    </tr>\n",
       "  </thead>\n",
       "  <tbody>\n",
       "    <tr>\n",
       "      <td>0</td>\n",
       "      <td>1</td>\n",
       "      <td>USC00519397</td>\n",
       "      <td>2010-01-01</td>\n",
       "      <td>0.08</td>\n",
       "      <td>65.0</td>\n",
       "      <td>None</td>\n",
       "      <td>20100101</td>\n",
       "    </tr>\n",
       "    <tr>\n",
       "      <td>1</td>\n",
       "      <td>2</td>\n",
       "      <td>USC00519397</td>\n",
       "      <td>2010-01-02</td>\n",
       "      <td>0.00</td>\n",
       "      <td>63.0</td>\n",
       "      <td>None</td>\n",
       "      <td>20100102</td>\n",
       "    </tr>\n",
       "    <tr>\n",
       "      <td>2</td>\n",
       "      <td>3</td>\n",
       "      <td>USC00519397</td>\n",
       "      <td>2010-01-03</td>\n",
       "      <td>0.00</td>\n",
       "      <td>74.0</td>\n",
       "      <td>None</td>\n",
       "      <td>20100103</td>\n",
       "    </tr>\n",
       "    <tr>\n",
       "      <td>3</td>\n",
       "      <td>4</td>\n",
       "      <td>USC00519397</td>\n",
       "      <td>2010-01-04</td>\n",
       "      <td>0.00</td>\n",
       "      <td>76.0</td>\n",
       "      <td>None</td>\n",
       "      <td>20100104</td>\n",
       "    </tr>\n",
       "    <tr>\n",
       "      <td>4</td>\n",
       "      <td>5</td>\n",
       "      <td>USC00519397</td>\n",
       "      <td>2010-01-06</td>\n",
       "      <td>NaN</td>\n",
       "      <td>73.0</td>\n",
       "      <td>None</td>\n",
       "      <td>20100106</td>\n",
       "    </tr>\n",
       "    <tr>\n",
       "      <td>...</td>\n",
       "      <td>...</td>\n",
       "      <td>...</td>\n",
       "      <td>...</td>\n",
       "      <td>...</td>\n",
       "      <td>...</td>\n",
       "      <td>...</td>\n",
       "      <td>...</td>\n",
       "    </tr>\n",
       "    <tr>\n",
       "      <td>19545</td>\n",
       "      <td>19546</td>\n",
       "      <td>USC00516128</td>\n",
       "      <td>2017-08-19</td>\n",
       "      <td>0.09</td>\n",
       "      <td>71.0</td>\n",
       "      <td>None</td>\n",
       "      <td>20170819</td>\n",
       "    </tr>\n",
       "    <tr>\n",
       "      <td>19546</td>\n",
       "      <td>19547</td>\n",
       "      <td>USC00516128</td>\n",
       "      <td>2017-08-20</td>\n",
       "      <td>NaN</td>\n",
       "      <td>78.0</td>\n",
       "      <td>None</td>\n",
       "      <td>20170820</td>\n",
       "    </tr>\n",
       "    <tr>\n",
       "      <td>19547</td>\n",
       "      <td>19548</td>\n",
       "      <td>USC00516128</td>\n",
       "      <td>2017-08-21</td>\n",
       "      <td>0.56</td>\n",
       "      <td>76.0</td>\n",
       "      <td>None</td>\n",
       "      <td>20170821</td>\n",
       "    </tr>\n",
       "    <tr>\n",
       "      <td>19548</td>\n",
       "      <td>19549</td>\n",
       "      <td>USC00516128</td>\n",
       "      <td>2017-08-22</td>\n",
       "      <td>0.50</td>\n",
       "      <td>76.0</td>\n",
       "      <td>None</td>\n",
       "      <td>20170822</td>\n",
       "    </tr>\n",
       "    <tr>\n",
       "      <td>19549</td>\n",
       "      <td>19550</td>\n",
       "      <td>USC00516128</td>\n",
       "      <td>2017-08-23</td>\n",
       "      <td>0.45</td>\n",
       "      <td>76.0</td>\n",
       "      <td>None</td>\n",
       "      <td>20170823</td>\n",
       "    </tr>\n",
       "  </tbody>\n",
       "</table>\n",
       "<p>19550 rows × 7 columns</p>\n",
       "</div>"
      ],
      "text/plain": [
       "          id      station        date  prcp  tobs  mmdd  scalar_date\n",
       "0          1  USC00519397  2010-01-01  0.08  65.0  None     20100101\n",
       "1          2  USC00519397  2010-01-02  0.00  63.0  None     20100102\n",
       "2          3  USC00519397  2010-01-03  0.00  74.0  None     20100103\n",
       "3          4  USC00519397  2010-01-04  0.00  76.0  None     20100104\n",
       "4          5  USC00519397  2010-01-06   NaN  73.0  None     20100106\n",
       "...      ...          ...         ...   ...   ...   ...          ...\n",
       "19545  19546  USC00516128  2017-08-19  0.09  71.0  None     20170819\n",
       "19546  19547  USC00516128  2017-08-20   NaN  78.0  None     20170820\n",
       "19547  19548  USC00516128  2017-08-21  0.56  76.0  None     20170821\n",
       "19548  19549  USC00516128  2017-08-22  0.50  76.0  None     20170822\n",
       "19549  19550  USC00516128  2017-08-23  0.45  76.0  None     20170823\n",
       "\n",
       "[19550 rows x 7 columns]"
      ]
     },
     "execution_count": 50,
     "metadata": {},
     "output_type": "execute_result"
    }
   ],
   "source": [
    "from datetime import date\n",
    "\n",
    "start = date(year=2016,month=11,day=1)\n",
    "end = date(year=2016,month=11,day=30)\n",
    "\n",
    "s = df2.date\n",
    "# .  -----start, stop position parameters for slice ------\n",
    "year=s.str.slice(start=0, stop=4, step=1)\n",
    "month=s.str.slice(start=5, stop=7, step=1)\n",
    "day = s.str.slice(start=8, stop=12, step=1)\n",
    "yyyymmdd=year+month+day\n",
    "\n",
    "df2['scalar_date'] = yyyymmdd.astype(int)\n",
    "df2.scalar_date\n",
    "df2\n",
    "\n",
    "#posts = Measurement.query.filter(Measurement.post_time <= end).filter(Measurement.post_time >= start)"
   ]
  },
  {
   "cell_type": "code",
   "execution_count": 51,
   "metadata": {},
   "outputs": [
    {
     "data": {
      "text/plain": [
       "11.53"
      ]
     },
     "execution_count": 51,
     "metadata": {},
     "output_type": "execute_result"
    }
   ],
   "source": [
    "max(df2.prcp)"
   ]
  },
  {
   "cell_type": "code",
   "execution_count": 52,
   "metadata": {},
   "outputs": [
    {
     "data": {
      "text/html": [
       "<div>\n",
       "<style scoped>\n",
       "    .dataframe tbody tr th:only-of-type {\n",
       "        vertical-align: middle;\n",
       "    }\n",
       "\n",
       "    .dataframe tbody tr th {\n",
       "        vertical-align: top;\n",
       "    }\n",
       "\n",
       "    .dataframe thead th {\n",
       "        text-align: right;\n",
       "    }\n",
       "</style>\n",
       "<table border=\"1\" class=\"dataframe\">\n",
       "  <thead>\n",
       "    <tr style=\"text-align: right;\">\n",
       "      <th></th>\n",
       "      <th>id</th>\n",
       "      <th>latitude</th>\n",
       "      <th>longitude</th>\n",
       "      <th>elevation</th>\n",
       "    </tr>\n",
       "  </thead>\n",
       "  <tbody>\n",
       "    <tr>\n",
       "      <td>count</td>\n",
       "      <td>9.000000</td>\n",
       "      <td>9.000000</td>\n",
       "      <td>9.000000</td>\n",
       "      <td>9.000000</td>\n",
       "    </tr>\n",
       "    <tr>\n",
       "      <td>mean</td>\n",
       "      <td>5.000000</td>\n",
       "      <td>21.393826</td>\n",
       "      <td>-157.867098</td>\n",
       "      <td>60.977778</td>\n",
       "    </tr>\n",
       "    <tr>\n",
       "      <td>std</td>\n",
       "      <td>2.738613</td>\n",
       "      <td>0.086442</td>\n",
       "      <td>0.103873</td>\n",
       "      <td>103.465547</td>\n",
       "    </tr>\n",
       "    <tr>\n",
       "      <td>min</td>\n",
       "      <td>1.000000</td>\n",
       "      <td>21.271600</td>\n",
       "      <td>-158.011100</td>\n",
       "      <td>0.900000</td>\n",
       "    </tr>\n",
       "    <tr>\n",
       "      <td>25%</td>\n",
       "      <td>3.000000</td>\n",
       "      <td>21.333100</td>\n",
       "      <td>-157.975100</td>\n",
       "      <td>7.000000</td>\n",
       "    </tr>\n",
       "    <tr>\n",
       "      <td>50%</td>\n",
       "      <td>5.000000</td>\n",
       "      <td>21.393400</td>\n",
       "      <td>-157.837400</td>\n",
       "      <td>14.600000</td>\n",
       "    </tr>\n",
       "    <tr>\n",
       "      <td>75%</td>\n",
       "      <td>7.000000</td>\n",
       "      <td>21.451670</td>\n",
       "      <td>-157.802500</td>\n",
       "      <td>32.900000</td>\n",
       "    </tr>\n",
       "    <tr>\n",
       "      <td>max</td>\n",
       "      <td>9.000000</td>\n",
       "      <td>21.521300</td>\n",
       "      <td>-157.711390</td>\n",
       "      <td>306.600000</td>\n",
       "    </tr>\n",
       "  </tbody>\n",
       "</table>\n",
       "</div>"
      ],
      "text/plain": [
       "             id   latitude   longitude   elevation\n",
       "count  9.000000   9.000000    9.000000    9.000000\n",
       "mean   5.000000  21.393826 -157.867098   60.977778\n",
       "std    2.738613   0.086442    0.103873  103.465547\n",
       "min    1.000000  21.271600 -158.011100    0.900000\n",
       "25%    3.000000  21.333100 -157.975100    7.000000\n",
       "50%    5.000000  21.393400 -157.837400   14.600000\n",
       "75%    7.000000  21.451670 -157.802500   32.900000\n",
       "max    9.000000  21.521300 -157.711390  306.600000"
      ]
     },
     "execution_count": 52,
     "metadata": {},
     "output_type": "execute_result"
    }
   ],
   "source": [
    "#---------------------------------------------------------\n",
    "# .               Capture . basic Stats of the dataframe\n",
    "#---------------------------------------------------------\n",
    "df1.describe()"
   ]
  },
  {
   "cell_type": "code",
   "execution_count": 53,
   "metadata": {
    "scrolled": false
   },
   "outputs": [
    {
     "data": {
      "text/html": [
       "<div>\n",
       "<style scoped>\n",
       "    .dataframe tbody tr th:only-of-type {\n",
       "        vertical-align: middle;\n",
       "    }\n",
       "\n",
       "    .dataframe tbody tr th {\n",
       "        vertical-align: top;\n",
       "    }\n",
       "\n",
       "    .dataframe thead th {\n",
       "        text-align: right;\n",
       "    }\n",
       "</style>\n",
       "<table border=\"1\" class=\"dataframe\">\n",
       "  <thead>\n",
       "    <tr style=\"text-align: right;\">\n",
       "      <th></th>\n",
       "      <th>id</th>\n",
       "      <th>station</th>\n",
       "      <th>date</th>\n",
       "      <th>prcp</th>\n",
       "      <th>tobs</th>\n",
       "      <th>mmdd</th>\n",
       "    </tr>\n",
       "  </thead>\n",
       "  <tbody>\n",
       "    <tr>\n",
       "      <td>7582</td>\n",
       "      <td>7583</td>\n",
       "      <td>USC00514830</td>\n",
       "      <td>2017-06-18</td>\n",
       "      <td>0.18</td>\n",
       "      <td>77.0</td>\n",
       "      <td>None</td>\n",
       "    </tr>\n",
       "    <tr>\n",
       "      <td>14906</td>\n",
       "      <td>14907</td>\n",
       "      <td>USC00519281</td>\n",
       "      <td>2017-06-18</td>\n",
       "      <td>0.24</td>\n",
       "      <td>75.0</td>\n",
       "      <td>None</td>\n",
       "    </tr>\n",
       "    <tr>\n",
       "      <td>2660</td>\n",
       "      <td>2661</td>\n",
       "      <td>USC00519397</td>\n",
       "      <td>2017-06-18</td>\n",
       "      <td>0.05</td>\n",
       "      <td>77.0</td>\n",
       "      <td>None</td>\n",
       "    </tr>\n",
       "    <tr>\n",
       "      <td>19484</td>\n",
       "      <td>19485</td>\n",
       "      <td>USC00516128</td>\n",
       "      <td>2017-06-18</td>\n",
       "      <td>0.70</td>\n",
       "      <td>77.0</td>\n",
       "      <td>None</td>\n",
       "    </tr>\n",
       "    <tr>\n",
       "      <td>5389</td>\n",
       "      <td>5390</td>\n",
       "      <td>USC00513117</td>\n",
       "      <td>2017-06-18</td>\n",
       "      <td>0.25</td>\n",
       "      <td>72.0</td>\n",
       "      <td>None</td>\n",
       "    </tr>\n",
       "    <tr>\n",
       "      <td>...</td>\n",
       "      <td>...</td>\n",
       "      <td>...</td>\n",
       "      <td>...</td>\n",
       "      <td>...</td>\n",
       "      <td>...</td>\n",
       "      <td>...</td>\n",
       "    </tr>\n",
       "    <tr>\n",
       "      <td>19548</td>\n",
       "      <td>19549</td>\n",
       "      <td>USC00516128</td>\n",
       "      <td>2017-08-22</td>\n",
       "      <td>0.50</td>\n",
       "      <td>76.0</td>\n",
       "      <td>None</td>\n",
       "    </tr>\n",
       "    <tr>\n",
       "      <td>2723</td>\n",
       "      <td>2724</td>\n",
       "      <td>USC00519397</td>\n",
       "      <td>2017-08-23</td>\n",
       "      <td>0.00</td>\n",
       "      <td>81.0</td>\n",
       "      <td>None</td>\n",
       "    </tr>\n",
       "    <tr>\n",
       "      <td>7634</td>\n",
       "      <td>7635</td>\n",
       "      <td>USC00514830</td>\n",
       "      <td>2017-08-23</td>\n",
       "      <td>0.00</td>\n",
       "      <td>82.0</td>\n",
       "      <td>None</td>\n",
       "    </tr>\n",
       "    <tr>\n",
       "      <td>12186</td>\n",
       "      <td>12187</td>\n",
       "      <td>USC00519523</td>\n",
       "      <td>2017-08-23</td>\n",
       "      <td>0.08</td>\n",
       "      <td>82.0</td>\n",
       "      <td>None</td>\n",
       "    </tr>\n",
       "    <tr>\n",
       "      <td>19549</td>\n",
       "      <td>19550</td>\n",
       "      <td>USC00516128</td>\n",
       "      <td>2017-08-23</td>\n",
       "      <td>0.45</td>\n",
       "      <td>76.0</td>\n",
       "      <td>None</td>\n",
       "    </tr>\n",
       "  </tbody>\n",
       "</table>\n",
       "<p>366 rows × 6 columns</p>\n",
       "</div>"
      ],
      "text/plain": [
       "          id      station        date  prcp  tobs  mmdd\n",
       "7582    7583  USC00514830  2017-06-18  0.18  77.0  None\n",
       "14906  14907  USC00519281  2017-06-18  0.24  75.0  None\n",
       "2660    2661  USC00519397  2017-06-18  0.05  77.0  None\n",
       "19484  19485  USC00516128  2017-06-18  0.70  77.0  None\n",
       "5389    5390  USC00513117  2017-06-18  0.25  72.0  None\n",
       "...      ...          ...         ...   ...   ...   ...\n",
       "19548  19549  USC00516128  2017-08-22  0.50  76.0  None\n",
       "2723    2724  USC00519397  2017-08-23  0.00  81.0  None\n",
       "7634    7635  USC00514830  2017-08-23  0.00  82.0  None\n",
       "12186  12187  USC00519523  2017-08-23  0.08  82.0  None\n",
       "19549  19550  USC00516128  2017-08-23  0.45  76.0  None\n",
       "\n",
       "[366 rows x 6 columns]"
      ]
     },
     "execution_count": 53,
     "metadata": {},
     "output_type": "execute_result"
    }
   ],
   "source": [
    "#------------------------------------------------------------------------------------------------------------\n",
    "#                      retrieve the last 12 months of precipitation data from Sorted data frame.\n",
    "#                      No need to derive a scalar date, but it seems we need a scalar_date for Mplot_Index\n",
    "#------------------------------------------------------------------------------------------------------------\n",
    "dfs.loc[dfs['date'] >= dfs['date'].iloc[-365]]\n",
    "#------------------------------------------------------------------------------------------------------------"
   ]
  },
  {
   "cell_type": "code",
   "execution_count": 54,
   "metadata": {},
   "outputs": [],
   "source": [
    "true_copy_dfs = dfs.copy()"
   ]
  },
  {
   "cell_type": "code",
   "execution_count": 55,
   "metadata": {},
   "outputs": [
    {
     "data": {
      "text/html": [
       "<div>\n",
       "<style scoped>\n",
       "    .dataframe tbody tr th:only-of-type {\n",
       "        vertical-align: middle;\n",
       "    }\n",
       "\n",
       "    .dataframe tbody tr th {\n",
       "        vertical-align: top;\n",
       "    }\n",
       "\n",
       "    .dataframe thead th {\n",
       "        text-align: right;\n",
       "    }\n",
       "</style>\n",
       "<table border=\"1\" class=\"dataframe\">\n",
       "  <thead>\n",
       "    <tr style=\"text-align: right;\">\n",
       "      <th></th>\n",
       "      <th>id</th>\n",
       "      <th>prcp</th>\n",
       "      <th>tobs</th>\n",
       "    </tr>\n",
       "  </thead>\n",
       "  <tbody>\n",
       "    <tr>\n",
       "      <td>count</td>\n",
       "      <td>1397.000000</td>\n",
       "      <td>1267.000000</td>\n",
       "      <td>1397.000000</td>\n",
       "    </tr>\n",
       "    <tr>\n",
       "      <td>mean</td>\n",
       "      <td>10230.584109</td>\n",
       "      <td>0.165927</td>\n",
       "      <td>74.143880</td>\n",
       "    </tr>\n",
       "    <tr>\n",
       "      <td>std</td>\n",
       "      <td>5633.823143</td>\n",
       "      <td>0.453913</td>\n",
       "      <td>4.927997</td>\n",
       "    </tr>\n",
       "    <tr>\n",
       "      <td>min</td>\n",
       "      <td>2495.000000</td>\n",
       "      <td>0.000000</td>\n",
       "      <td>58.000000</td>\n",
       "    </tr>\n",
       "    <tr>\n",
       "      <td>25%</td>\n",
       "      <td>5341.000000</td>\n",
       "      <td>0.000000</td>\n",
       "      <td>71.000000</td>\n",
       "    </tr>\n",
       "    <tr>\n",
       "      <td>50%</td>\n",
       "      <td>8962.000000</td>\n",
       "      <td>0.000000</td>\n",
       "      <td>75.000000</td>\n",
       "    </tr>\n",
       "    <tr>\n",
       "      <td>75%</td>\n",
       "      <td>14832.000000</td>\n",
       "      <td>0.105000</td>\n",
       "      <td>78.000000</td>\n",
       "    </tr>\n",
       "    <tr>\n",
       "      <td>max</td>\n",
       "      <td>19550.000000</td>\n",
       "      <td>6.250000</td>\n",
       "      <td>87.000000</td>\n",
       "    </tr>\n",
       "  </tbody>\n",
       "</table>\n",
       "</div>"
      ],
      "text/plain": [
       "                 id         prcp         tobs\n",
       "count   1397.000000  1267.000000  1397.000000\n",
       "mean   10230.584109     0.165927    74.143880\n",
       "std     5633.823143     0.453913     4.927997\n",
       "min     2495.000000     0.000000    58.000000\n",
       "25%     5341.000000     0.000000    71.000000\n",
       "50%     8962.000000     0.000000    75.000000\n",
       "75%    14832.000000     0.105000    78.000000\n",
       "max    19550.000000     6.250000    87.000000"
      ]
     },
     "execution_count": 55,
     "metadata": {},
     "output_type": "execute_result"
    }
   ],
   "source": [
    "dfinal=true_copy_dfs[(dfs.date >= '2017-01-01') & (dfs.date <= '2018-01-01')]\n",
    "dfinal.describe()\n",
    "#true_copy_dfs.describe()"
   ]
  },
  {
   "cell_type": "code",
   "execution_count": 56,
   "metadata": {},
   "outputs": [
    {
     "data": {
      "image/png": "[encoded data removed]",
      "text/plain": [
       "<Figure size 1440x216 with 1 Axes>"
      ]
     },
     "metadata": {
      "needs_background": "light"
     },
     "output_type": "display_data"
    }
   ],
   "source": [
    "\n",
    "\n",
    "# Set x axis and tick locations\n",
    "x_axis = dfinal.date\n",
    "tick_locations = [value for value in x_axis]\n",
    "# Create a list indicating where to write x labels and set figure size to adjust for space\n",
    "plt.figure(figsize=(20,3))\n",
    "plt.bar(x_axis, dfinal.prcp, color='b', alpha=0.5, align=\"center\")\n",
    "# plt.xticks(tick_locations, df4.date, rotation=\"vertical\")\n",
    "# Set x and y limits\n",
    "# plt.xlim(-0.75, len(x_axis))\n",
    "plt.ylim(0, max(dfinal.prcp)+.02)\n",
    "#plt.ylim(0, 7)\n",
    "# Set a Title and labels\n",
    "plt.title(\"Percipitation by Date of last 12 months from 2017-2018\")\n",
    "plt.xlabel(\"date\")\n",
    "plt.ylabel(\"Percipitation\")\n",
    "#plt.tight_layout()\n",
    "plt.savefig(\"../sql_alchemy_flask_challenge/alemiprcp_12months.png\")\n",
    "plt.show()"
   ]
  },
  {
   "cell_type": "code",
   "execution_count": 57,
   "metadata": {},
   "outputs": [
    {
     "data": {
      "text/html": [
       "<div>\n",
       "<style scoped>\n",
       "    .dataframe tbody tr th:only-of-type {\n",
       "        vertical-align: middle;\n",
       "    }\n",
       "\n",
       "    .dataframe tbody tr th {\n",
       "        vertical-align: top;\n",
       "    }\n",
       "\n",
       "    .dataframe thead th {\n",
       "        text-align: right;\n",
       "    }\n",
       "</style>\n",
       "<table border=\"1\" class=\"dataframe\">\n",
       "  <thead>\n",
       "    <tr style=\"text-align: right;\">\n",
       "      <th></th>\n",
       "      <th>id</th>\n",
       "      <th>station</th>\n",
       "      <th>date</th>\n",
       "      <th>prcp</th>\n",
       "      <th>tobs</th>\n",
       "      <th>mmdd</th>\n",
       "    </tr>\n",
       "    <tr>\n",
       "      <th>date2</th>\n",
       "      <th></th>\n",
       "      <th></th>\n",
       "      <th></th>\n",
       "      <th></th>\n",
       "      <th></th>\n",
       "      <th></th>\n",
       "    </tr>\n",
       "  </thead>\n",
       "  <tbody>\n",
       "    <tr>\n",
       "      <td>&lt;class 'datetime.date'&gt;</td>\n",
       "      <td>1</td>\n",
       "      <td>USC00519397</td>\n",
       "      <td>2010-01-01</td>\n",
       "      <td>0.08</td>\n",
       "      <td>65.0</td>\n",
       "      <td>None</td>\n",
       "    </tr>\n",
       "    <tr>\n",
       "      <td>&lt;class 'datetime.date'&gt;</td>\n",
       "      <td>9008</td>\n",
       "      <td>USC00518838</td>\n",
       "      <td>2010-01-01</td>\n",
       "      <td>0.21</td>\n",
       "      <td>72.0</td>\n",
       "      <td>None</td>\n",
       "    </tr>\n",
       "    <tr>\n",
       "      <td>&lt;class 'datetime.date'&gt;</td>\n",
       "      <td>9519</td>\n",
       "      <td>USC00519523</td>\n",
       "      <td>2010-01-01</td>\n",
       "      <td>0.15</td>\n",
       "      <td>75.0</td>\n",
       "      <td>None</td>\n",
       "    </tr>\n",
       "    <tr>\n",
       "      <td>&lt;class 'datetime.date'&gt;</td>\n",
       "      <td>12188</td>\n",
       "      <td>USC00519281</td>\n",
       "      <td>2010-01-01</td>\n",
       "      <td>0.15</td>\n",
       "      <td>70.0</td>\n",
       "      <td>None</td>\n",
       "    </tr>\n",
       "    <tr>\n",
       "      <td>&lt;class 'datetime.date'&gt;</td>\n",
       "      <td>14960</td>\n",
       "      <td>USC00511918</td>\n",
       "      <td>2010-01-01</td>\n",
       "      <td>0.05</td>\n",
       "      <td>66.0</td>\n",
       "      <td>None</td>\n",
       "    </tr>\n",
       "  </tbody>\n",
       "</table>\n",
       "</div>"
      ],
      "text/plain": [
       "                            id      station        date  prcp  tobs  mmdd\n",
       "date2                                                                    \n",
       "<class 'datetime.date'>      1  USC00519397  2010-01-01  0.08  65.0  None\n",
       "<class 'datetime.date'>   9008  USC00518838  2010-01-01  0.21  72.0  None\n",
       "<class 'datetime.date'>   9519  USC00519523  2010-01-01  0.15  75.0  None\n",
       "<class 'datetime.date'>  12188  USC00519281  2010-01-01  0.15  70.0  None\n",
       "<class 'datetime.date'>  14960  USC00511918  2010-01-01  0.05  66.0  None"
      ]
     },
     "execution_count": 57,
     "metadata": {},
     "output_type": "execute_result"
    }
   ],
   "source": [
    "#----------------------------------------------------------------------\n",
    "#                   I D E X I N G .  by Date\n",
    "# Setting the index to Date, requires a new data frame to be \"initiated\"\n",
    "# -----------------------------------------------------------------------\n",
    "dfi = dfs\n",
    "dfs['date2'] =date\n",
    "dfi.set_index(\"date2\", inplace=True)\n",
    "dfi.head()"
   ]
  },
  {
   "cell_type": "code",
   "execution_count": 58,
   "metadata": {
    "scrolled": false
   },
   "outputs": [],
   "source": [
    "# select rows with date column between a given range, \n",
    "#dfi.loc[(dfi['date'] >= 2010-01-01) & (dfi['date'] <= 2010-01-06)]"
   ]
  },
  {
   "cell_type": "markdown",
   "metadata": {},
   "source": [
    "![precipitation](Images/precipitation.png)"
   ]
  },
  {
   "cell_type": "code",
   "execution_count": 59,
   "metadata": {},
   "outputs": [],
   "source": [
    "import datetime as datetime"
   ]
  },
  {
   "cell_type": "code",
   "execution_count": 60,
   "metadata": {},
   "outputs": [],
   "source": [
    "df4 = dfs[:].copy()\n",
    "df4['date'] = pd.to_datetime(df4['date'])"
   ]
  },
  {
   "cell_type": "code",
   "execution_count": 61,
   "metadata": {
    "scrolled": false
   },
   "outputs": [
    {
     "name": "stderr",
     "output_type": "stream",
     "text": [
      "/Users/piruzalemi/opt/anaconda3/lib/python3.7/site-packages/pandas/plotting/_matplotlib/converter.py:103: FutureWarning: Using an implicitly registered datetime converter for a matplotlib plotting method. The converter was registered by pandas on import. Future versions of pandas will require you to explicitly register matplotlib converters.\n",
      "\n",
      "To register the converters:\n",
      "\t>>> from pandas.plotting import register_matplotlib_converters\n",
      "\t>>> register_matplotlib_converters()\n",
      "  warnings.warn(msg, FutureWarning)\n"
     ]
    },
    {
     "data": {
      "image/png": "[encoded data removed]",
      "text/plain": [
       "<Figure size 1440x216 with 1 Axes>"
      ]
     },
     "metadata": {
      "needs_background": "light"
     },
     "output_type": "display_data"
    }
   ],
   "source": [
    "\n",
    "\n",
    "# Set x axis and tick locations\n",
    "x_axis = df4.date\n",
    "tick_locations = [value for value in x_axis]\n",
    "# Create a list indicating where to write x labels and set figure size to adjust for space\n",
    "plt.figure(figsize=(20,3))\n",
    "plt.bar(x_axis, df4.prcp, color='b', alpha=0.5, align=\"center\")\n",
    "# plt.xticks(tick_locations, df4.date, rotation=\"vertical\")\n",
    "# Set x and y limits\n",
    "# plt.xlim(-0.75, len(x_axis))\n",
    "plt.ylim(0, max(df4.prcp)+.02)\n",
    "#plt.ylim(0, 7)\n",
    "# Set a Title and labels\n",
    "plt.title(\"Percipitation by Date\")\n",
    "plt.xlabel(\"date\")\n",
    "plt.ylabel(\"Percipitation\")\n",
    "#plt.tight_layout()\n",
    "plt.savefig(\"../sql_alchemy_flask_challenge/alemiprcp.png\")\n",
    "plt.show()"
   ]
  },
  {
   "cell_type": "code",
   "execution_count": 62,
   "metadata": {},
   "outputs": [],
   "source": [
    "# ----------------------------------------------------------------------------------------------\n",
    "# Use Pandas to calcualte the summary statistics for the precipitation data\n",
    "# -------------------------------------------------------------------------------------\n",
    "# Alemi Querry of 01/20/20\n",
    "# session.query(func.count(Station.date)).all()\n",
    "# Latest Date\n",
    "# session.query(df2.date).order_by(df2.date.desc()).first()\n",
    "# Query All Records in the the Database"
   ]
  },
  {
   "cell_type": "code",
   "execution_count": null,
   "metadata": {},
   "outputs": [],
   "source": []
  },
  {
   "cell_type": "code",
   "execution_count": 63,
   "metadata": {},
   "outputs": [
    {
     "name": "stdout",
     "output_type": "stream",
     "text": [
      "(1, 'USC00519397', 'WAIKIKI 717.2, HI US', 21.2716, -157.8168, 3.0)\n",
      "(2, 'USC00513117', 'KANEOHE 838.1, HI US', 21.4234, -157.8015, 14.6)\n",
      "(3, 'USC00514830', 'KUALOA RANCH HEADQUARTERS 886.9, HI US', 21.5213, -157.8374, 7.0)\n",
      "(4, 'USC00517948', 'PEARL CITY, HI US', 21.3934, -157.9751, 11.9)\n",
      "(5, 'USC00518838', 'UPPER WAHIAWA 874.3, HI US', 21.4992, -158.0111, 306.6)\n",
      "(6, 'USC00519523', 'WAIMANALO EXPERIMENTAL FARM, HI US', 21.33556, -157.71139, 19.5)\n",
      "(7, 'USC00519281', 'WAIHEE 837.5, HI US', 21.45167, -157.84888999999998, 32.9)\n",
      "(8, 'USC00511918', 'HONOLULU OBSERVATORY 702.2, HI US', 21.3152, -157.9992, 0.9)\n",
      "(9, 'USC00516128', 'MANOA LYON ARBO 785.2, HI US', 21.3331, -157.8025, 152.4)\n"
     ]
    }
   ],
   "source": [
    "\n",
    "#-------------------------------------------------------------------------------------------\n",
    "#       We can retrieve data either directly from data base or from data frames.\n",
    "# .                 Following code retrieves data direct from data base\n",
    "#-------------------------------------------------------------------------------------------\n",
    "data = engine.execute(\"SELECT * FROM station\")\n",
    "for record in data:\n",
    "    print(record)\n",
    "# Query Single Record in the the Database\n",
    "data = engine.execute(\"SELECT * FROM station WHERE latitude >=50.25;\")\n",
    "for record in data:\n",
    "    print(record)"
   ]
  },
  {
   "cell_type": "markdown",
   "metadata": {},
   "source": [
    "![describe](Images/describe.png)"
   ]
  },
  {
   "cell_type": "code",
   "execution_count": 64,
   "metadata": {},
   "outputs": [
    {
     "data": {
      "text/html": [
       "<div>\n",
       "<style scoped>\n",
       "    .dataframe tbody tr th:only-of-type {\n",
       "        vertical-align: middle;\n",
       "    }\n",
       "\n",
       "    .dataframe tbody tr th {\n",
       "        vertical-align: top;\n",
       "    }\n",
       "\n",
       "    .dataframe thead th {\n",
       "        text-align: right;\n",
       "    }\n",
       "</style>\n",
       "<table border=\"1\" class=\"dataframe\">\n",
       "  <thead>\n",
       "    <tr style=\"text-align: right;\">\n",
       "      <th></th>\n",
       "      <th>id</th>\n",
       "      <th>prcp</th>\n",
       "      <th>tobs</th>\n",
       "    </tr>\n",
       "  </thead>\n",
       "  <tbody>\n",
       "    <tr>\n",
       "      <td>count</td>\n",
       "      <td>1397.000000</td>\n",
       "      <td>1267.000000</td>\n",
       "      <td>1397.000000</td>\n",
       "    </tr>\n",
       "    <tr>\n",
       "      <td>mean</td>\n",
       "      <td>10230.584109</td>\n",
       "      <td>0.165927</td>\n",
       "      <td>74.143880</td>\n",
       "    </tr>\n",
       "    <tr>\n",
       "      <td>std</td>\n",
       "      <td>5633.823143</td>\n",
       "      <td>0.453913</td>\n",
       "      <td>4.927997</td>\n",
       "    </tr>\n",
       "    <tr>\n",
       "      <td>min</td>\n",
       "      <td>2495.000000</td>\n",
       "      <td>0.000000</td>\n",
       "      <td>58.000000</td>\n",
       "    </tr>\n",
       "    <tr>\n",
       "      <td>25%</td>\n",
       "      <td>5341.000000</td>\n",
       "      <td>0.000000</td>\n",
       "      <td>71.000000</td>\n",
       "    </tr>\n",
       "    <tr>\n",
       "      <td>50%</td>\n",
       "      <td>8962.000000</td>\n",
       "      <td>0.000000</td>\n",
       "      <td>75.000000</td>\n",
       "    </tr>\n",
       "    <tr>\n",
       "      <td>75%</td>\n",
       "      <td>14832.000000</td>\n",
       "      <td>0.105000</td>\n",
       "      <td>78.000000</td>\n",
       "    </tr>\n",
       "    <tr>\n",
       "      <td>max</td>\n",
       "      <td>19550.000000</td>\n",
       "      <td>6.250000</td>\n",
       "      <td>87.000000</td>\n",
       "    </tr>\n",
       "  </tbody>\n",
       "</table>\n",
       "</div>"
      ],
      "text/plain": [
       "                 id         prcp         tobs\n",
       "count   1397.000000  1267.000000  1397.000000\n",
       "mean   10230.584109     0.165927    74.143880\n",
       "std     5633.823143     0.453913     4.927997\n",
       "min     2495.000000     0.000000    58.000000\n",
       "25%     5341.000000     0.000000    71.000000\n",
       "50%     8962.000000     0.000000    75.000000\n",
       "75%    14832.000000     0.105000    78.000000\n",
       "max    19550.000000     6.250000    87.000000"
      ]
     },
     "execution_count": 64,
     "metadata": {},
     "output_type": "execute_result"
    }
   ],
   "source": [
    "dfinal.describe()\n",
    "#----------------------------------------------\n",
    "# could be filtered by say Station "
   ]
  },
  {
   "cell_type": "code",
   "execution_count": null,
   "metadata": {},
   "outputs": [],
   "source": []
  },
  {
   "cell_type": "code",
   "execution_count": 65,
   "metadata": {},
   "outputs": [
    {
     "data": {
      "text/plain": [
       "[(9)]"
      ]
     },
     "execution_count": 65,
     "metadata": {},
     "output_type": "execute_result"
    }
   ],
   "source": [
    "#----------------------------------------------------------------------------------------\n",
    "# Design a query to show how many stations are available in this dataset?\n",
    "#----------------------------------------------------------------------------------------\n",
    "session.query(func.count(Station.id)).all()\n"
   ]
  },
  {
   "cell_type": "code",
   "execution_count": 66,
   "metadata": {},
   "outputs": [],
   "source": [
    "from sqlalchemy import inspect"
   ]
  },
  {
   "cell_type": "code",
   "execution_count": 67,
   "metadata": {},
   "outputs": [],
   "source": [
    "from sqlalchemy.orm import Session\n",
    "session = Session(bind=engine)"
   ]
  },
  {
   "cell_type": "code",
   "execution_count": 68,
   "metadata": {},
   "outputs": [
    {
     "data": {
      "text/plain": [
       "['measurement', 'station']"
      ]
     },
     "execution_count": 68,
     "metadata": {},
     "output_type": "execute_result"
    }
   ],
   "source": [
    "inspector = inspect(engine)\n",
    "inspector.get_table_names()"
   ]
  },
  {
   "cell_type": "code",
   "execution_count": 69,
   "metadata": {},
   "outputs": [
    {
     "name": "stdout",
     "output_type": "stream",
     "text": [
      "id INTEGER\n",
      "station TEXT\n",
      "name TEXT\n",
      "latitude FLOAT\n",
      "longitude FLOAT\n",
      "elevation FLOAT\n"
     ]
    }
   ],
   "source": [
    "# Get a list of column names and types in the Station Database (Table)\n",
    "columns = inspector.get_columns('station')\n",
    "for c in columns:\n",
    "    print(c['name'], c[\"type\"])\n",
    "# --------------------------------------------------------\n",
    "# .          Columns of Station:\n",
    "# --------------------------------------------------------"
   ]
  },
  {
   "cell_type": "code",
   "execution_count": 70,
   "metadata": {},
   "outputs": [
    {
     "name": "stdout",
     "output_type": "stream",
     "text": [
      "id INTEGER\n",
      "station TEXT\n",
      "date TEXT\n",
      "prcp FLOAT\n",
      "tobs FLOAT\n",
      "mmdd VARCHAR(4)\n"
     ]
    }
   ],
   "source": [
    "# Get a list of column names and types in the Measurement (Table)\n",
    "columns = inspector.get_columns('measurement')\n",
    "for c in columns:\n",
    "    print(c['name'], c[\"type\"])\n",
    "# columns\n",
    "# --------------------------------------------------------\n",
    "# .          Columns of Measurement:\n",
    "# --------------------------------------------------------"
   ]
  },
  {
   "cell_type": "code",
   "execution_count": 71,
   "metadata": {},
   "outputs": [
    {
     "data": {
      "text/plain": [
       "[('USC00519397', 'WAIKIKI 717.2, HI US', 3.0, 1, 65.0),\n",
       " ('USC00519397', 'WAIKIKI 717.2, HI US', 3.0, 2, 63.0),\n",
       " ('USC00519397', 'WAIKIKI 717.2, HI US', 3.0, 3, 74.0),\n",
       " ('USC00519397', 'WAIKIKI 717.2, HI US', 3.0, 4, 76.0),\n",
       " ('USC00519397', 'WAIKIKI 717.2, HI US', 3.0, 5, 73.0)]"
      ]
     },
     "execution_count": 71,
     "metadata": {},
     "output_type": "execute_result"
    }
   ],
   "source": [
    " #   It is possible to simultaneously querry two sparate data base (Tables), as if they were joined!\n",
    "session.query(Station.station, Station.name, Station.elevation, Measurement.id, Measurement.tobs).limit(5).all()"
   ]
  },
  {
   "cell_type": "code",
   "execution_count": 72,
   "metadata": {},
   "outputs": [
    {
     "data": {
      "text/plain": [
       "[(1, 'USC00519397', '2010-01-01', 0.08, 65.0),\n",
       " (2, 'USC00519397', '2010-01-02', 0.0, 63.0),\n",
       " (3, 'USC00519397', '2010-01-03', 0.0, 74.0),\n",
       " (4, 'USC00519397', '2010-01-04', 0.0, 76.0),\n",
       " (5, 'USC00519397', '2010-01-06', None, 73.0)]"
      ]
     },
     "execution_count": 72,
     "metadata": {},
     "output_type": "execute_result"
    }
   ],
   "source": [
    "session.query(Measurement.id, Measurement.station , Measurement.date, Measurement.prcp, Measurement.tobs).limit(5).all()"
   ]
  },
  {
   "cell_type": "code",
   "execution_count": 73,
   "metadata": {},
   "outputs": [
    {
     "data": {
      "text/plain": [
       "[('2011-03-02'),\n",
       " ('2011-03-02'),\n",
       " ('2011-03-02'),\n",
       " ('2011-03-02'),\n",
       " ('2011-03-02'),\n",
       " ('2011-03-02'),\n",
       " ('2011-03-02'),\n",
       " ('2011-03-02'),\n",
       " ('2011-03-02'),\n",
       " ('2011-03-03'),\n",
       " ('2011-03-03'),\n",
       " ('2011-03-03'),\n",
       " ('2011-03-03'),\n",
       " ('2011-03-03'),\n",
       " ('2011-03-03'),\n",
       " ('2011-03-03'),\n",
       " ('2011-03-03'),\n",
       " ('2011-03-04'),\n",
       " ('2011-03-04'),\n",
       " ('2011-03-04'),\n",
       " ('2011-03-04'),\n",
       " ('2011-03-04'),\n",
       " ('2011-03-04'),\n",
       " ('2011-03-04'),\n",
       " ('2011-03-04'),\n",
       " ('2011-03-05'),\n",
       " ('2011-03-05'),\n",
       " ('2011-03-05'),\n",
       " ('2011-03-05'),\n",
       " ('2011-03-05'),\n",
       " ('2011-03-05'),\n",
       " ('2011-03-06'),\n",
       " ('2011-03-06'),\n",
       " ('2011-03-06'),\n",
       " ('2011-03-06'),\n",
       " ('2011-03-06'),\n",
       " ('2011-03-06'),\n",
       " ('2011-03-06'),\n",
       " ('2011-03-07'),\n",
       " ('2011-03-07'),\n",
       " ('2011-03-07'),\n",
       " ('2011-03-07'),\n",
       " ('2011-03-07'),\n",
       " ('2011-03-07'),\n",
       " ('2011-03-07'),\n",
       " ('2011-03-07'),\n",
       " ('2011-03-08'),\n",
       " ('2011-03-08'),\n",
       " ('2011-03-08'),\n",
       " ('2011-03-08'),\n",
       " ('2011-03-08'),\n",
       " ('2011-03-08'),\n",
       " ('2011-03-08'),\n",
       " ('2011-03-08'),\n",
       " ('2011-03-08'),\n",
       " ('2011-03-09'),\n",
       " ('2011-03-09'),\n",
       " ('2011-03-09'),\n",
       " ('2011-03-09'),\n",
       " ('2011-03-09'),\n",
       " ('2011-03-09'),\n",
       " ('2011-03-09'),\n",
       " ('2011-03-09'),\n",
       " ('2011-03-09'),\n",
       " ('2011-03-10'),\n",
       " ('2011-03-10'),\n",
       " ('2011-03-10'),\n",
       " ('2011-03-10'),\n",
       " ('2011-03-10'),\n",
       " ('2011-03-10'),\n",
       " ('2011-03-10'),\n",
       " ('2011-03-10'),\n",
       " ('2011-03-10'),\n",
       " ('2011-03-11'),\n",
       " ('2011-03-11'),\n",
       " ('2011-03-11'),\n",
       " ('2011-03-11'),\n",
       " ('2011-03-11'),\n",
       " ('2011-03-11'),\n",
       " ('2011-03-12'),\n",
       " ('2011-03-12'),\n",
       " ('2011-03-12'),\n",
       " ('2011-03-12'),\n",
       " ('2011-03-12'),\n",
       " ('2011-03-12'),\n",
       " ('2011-03-13'),\n",
       " ('2011-03-13'),\n",
       " ('2011-03-13'),\n",
       " ('2011-03-13'),\n",
       " ('2011-03-13'),\n",
       " ('2011-03-13'),\n",
       " ('2011-03-14'),\n",
       " ('2011-03-14'),\n",
       " ('2011-03-14'),\n",
       " ('2011-03-14'),\n",
       " ('2011-03-14'),\n",
       " ('2011-03-14'),\n",
       " ('2011-03-14'),\n",
       " ('2011-03-14'),\n",
       " ('2011-03-15'),\n",
       " ('2011-03-15'),\n",
       " ('2011-03-15'),\n",
       " ('2011-03-15'),\n",
       " ('2011-03-15'),\n",
       " ('2011-03-15'),\n",
       " ('2011-03-15'),\n",
       " ('2011-03-16'),\n",
       " ('2011-03-16'),\n",
       " ('2011-03-16'),\n",
       " ('2011-03-16'),\n",
       " ('2011-03-16'),\n",
       " ('2011-03-16'),\n",
       " ('2011-03-16'),\n",
       " ('2011-03-16'),\n",
       " ('2011-03-17'),\n",
       " ('2011-03-17'),\n",
       " ('2011-03-17'),\n",
       " ('2011-03-17'),\n",
       " ('2011-03-17'),\n",
       " ('2011-03-17'),\n",
       " ('2011-03-18'),\n",
       " ('2011-03-18'),\n",
       " ('2011-03-18'),\n",
       " ('2011-03-18'),\n",
       " ('2011-03-18'),\n",
       " ('2011-03-18'),\n",
       " ('2011-03-18'),\n",
       " ('2011-03-19'),\n",
       " ('2011-03-19'),\n",
       " ('2011-03-19'),\n",
       " ('2011-03-19'),\n",
       " ('2011-03-19'),\n",
       " ('2011-03-19'),\n",
       " ('2011-03-19'),\n",
       " ('2011-03-20'),\n",
       " ('2011-03-20'),\n",
       " ('2011-03-20'),\n",
       " ('2011-03-20'),\n",
       " ('2011-03-20'),\n",
       " ('2011-03-20'),\n",
       " ('2011-03-21'),\n",
       " ('2011-03-21'),\n",
       " ('2011-03-21'),\n",
       " ('2011-03-21'),\n",
       " ('2011-03-21'),\n",
       " ('2011-03-21'),\n",
       " ('2011-03-21'),\n",
       " ('2011-03-21'),\n",
       " ('2011-03-22'),\n",
       " ('2011-03-22'),\n",
       " ('2011-03-22'),\n",
       " ('2011-03-22'),\n",
       " ('2011-03-22'),\n",
       " ('2011-03-22'),\n",
       " ('2011-03-22'),\n",
       " ('2011-03-22'),\n",
       " ('2011-03-23'),\n",
       " ('2011-03-23'),\n",
       " ('2011-03-23'),\n",
       " ('2011-03-23'),\n",
       " ('2011-03-23'),\n",
       " ('2011-03-23'),\n",
       " ('2011-03-23'),\n",
       " ('2011-03-23'),\n",
       " ('2011-03-24'),\n",
       " ('2011-03-24'),\n",
       " ('2011-03-24'),\n",
       " ('2011-03-24'),\n",
       " ('2011-03-24'),\n",
       " ('2011-03-24'),\n",
       " ('2011-03-24'),\n",
       " ('2011-03-24'),\n",
       " ('2011-03-25'),\n",
       " ('2011-03-25'),\n",
       " ('2011-03-25'),\n",
       " ('2011-03-25'),\n",
       " ('2011-03-25'),\n",
       " ('2011-03-25'),\n",
       " ('2011-03-26'),\n",
       " ('2011-03-26'),\n",
       " ('2011-03-26'),\n",
       " ('2011-03-26'),\n",
       " ('2011-03-26'),\n",
       " ('2011-03-26'),\n",
       " ('2011-03-26'),\n",
       " ('2011-03-27'),\n",
       " ('2011-03-27'),\n",
       " ('2011-03-27'),\n",
       " ('2011-03-27'),\n",
       " ('2011-03-27'),\n",
       " ('2011-03-27'),\n",
       " ('2011-03-28'),\n",
       " ('2011-03-28'),\n",
       " ('2011-03-28'),\n",
       " ('2011-03-28'),\n",
       " ('2011-03-28'),\n",
       " ('2011-03-28'),\n",
       " ('2011-03-29'),\n",
       " ('2011-03-29'),\n",
       " ('2011-03-29'),\n",
       " ('2011-03-29'),\n",
       " ('2011-03-29'),\n",
       " ('2011-03-29'),\n",
       " ('2011-03-29'),\n",
       " ('2011-03-30'),\n",
       " ('2011-03-30'),\n",
       " ('2011-03-30'),\n",
       " ('2011-03-30'),\n",
       " ('2011-03-30'),\n",
       " ('2011-03-30'),\n",
       " ('2011-03-30'),\n",
       " ('2011-03-30'),\n",
       " ('2011-03-30'),\n",
       " ('2011-03-31'),\n",
       " ('2011-03-31'),\n",
       " ('2011-03-31'),\n",
       " ('2011-03-31'),\n",
       " ('2011-03-31'),\n",
       " ('2011-03-31'),\n",
       " ('2011-03-31'),\n",
       " ('2011-03-31'),\n",
       " ('2011-03-31'),\n",
       " ('2011-04-01'),\n",
       " ('2011-04-01'),\n",
       " ('2011-04-01'),\n",
       " ('2011-04-01'),\n",
       " ('2011-04-01'),\n",
       " ('2011-04-01'),\n",
       " ('2011-04-01'),\n",
       " ('2011-04-01'),\n",
       " ('2011-04-01'),\n",
       " ('2011-04-02'),\n",
       " ('2011-04-02'),\n",
       " ('2011-04-02'),\n",
       " ('2011-04-02'),\n",
       " ('2011-04-02'),\n",
       " ('2011-04-02'),\n",
       " ('2011-04-03'),\n",
       " ('2011-04-03'),\n",
       " ('2011-04-03'),\n",
       " ('2011-04-03'),\n",
       " ('2011-04-03'),\n",
       " ('2011-04-03'),\n",
       " ('2011-04-04'),\n",
       " ('2011-04-04'),\n",
       " ('2011-04-04'),\n",
       " ('2011-04-04'),\n",
       " ('2011-04-04'),\n",
       " ('2011-04-04'),\n",
       " ('2011-04-04'),\n",
       " ('2011-04-04'),\n",
       " ('2011-04-04'),\n",
       " ('2011-04-05'),\n",
       " ('2011-04-05'),\n",
       " ('2011-04-05'),\n",
       " ('2011-04-05'),\n",
       " ('2011-04-05'),\n",
       " ('2011-04-05'),\n",
       " ('2011-04-05'),\n",
       " ('2011-04-05'),\n",
       " ('2011-04-06'),\n",
       " ('2011-04-06'),\n",
       " ('2011-04-06'),\n",
       " ('2011-04-06'),\n",
       " ('2011-04-06'),\n",
       " ('2011-04-06'),\n",
       " ('2011-04-06'),\n",
       " ('2011-04-06'),\n",
       " ('2011-04-06'),\n",
       " ('2011-04-07'),\n",
       " ('2011-04-07'),\n",
       " ('2011-04-07'),\n",
       " ('2011-04-07'),\n",
       " ('2011-04-07'),\n",
       " ('2011-04-07'),\n",
       " ('2011-04-07'),\n",
       " ('2011-04-07'),\n",
       " ('2011-04-07'),\n",
       " ('2011-04-08'),\n",
       " ('2011-04-08'),\n",
       " ('2011-04-08'),\n",
       " ('2011-04-08'),\n",
       " ('2011-04-08'),\n",
       " ('2011-04-08'),\n",
       " ('2011-04-08'),\n",
       " ('2011-04-08'),\n",
       " ('2011-04-09'),\n",
       " ('2011-04-09'),\n",
       " ('2011-04-09'),\n",
       " ('2011-04-09'),\n",
       " ('2011-04-09'),\n",
       " ('2011-04-09'),\n",
       " ('2011-04-10'),\n",
       " ('2011-04-10'),\n",
       " ('2011-04-10'),\n",
       " ('2011-04-10'),\n",
       " ('2011-04-10'),\n",
       " ('2011-04-10'),\n",
       " ('2011-04-10'),\n",
       " ('2011-04-11'),\n",
       " ('2011-04-11'),\n",
       " ('2011-04-11'),\n",
       " ('2011-04-11'),\n",
       " ('2011-04-11'),\n",
       " ('2011-04-11'),\n",
       " ('2011-04-11'),\n",
       " ('2011-04-11'),\n",
       " ('2011-04-11'),\n",
       " ('2011-04-12'),\n",
       " ('2011-04-12'),\n",
       " ('2011-04-12'),\n",
       " ('2011-04-12'),\n",
       " ('2011-04-12'),\n",
       " ('2011-04-12'),\n",
       " ('2011-04-12'),\n",
       " ('2011-04-12'),\n",
       " ('2011-04-12'),\n",
       " ('2011-04-13'),\n",
       " ('2011-04-13'),\n",
       " ('2011-04-13'),\n",
       " ('2011-04-13'),\n",
       " ('2011-04-13'),\n",
       " ('2011-04-13'),\n",
       " ('2011-04-13'),\n",
       " ('2011-04-13'),\n",
       " ('2011-04-13'),\n",
       " ('2011-04-14'),\n",
       " ('2011-04-14'),\n",
       " ('2011-04-14'),\n",
       " ('2011-04-14'),\n",
       " ('2011-04-14'),\n",
       " ('2011-04-14'),\n",
       " ('2011-04-14'),\n",
       " ('2011-04-14'),\n",
       " ('2011-04-15'),\n",
       " ('2011-04-15'),\n",
       " ('2011-04-15'),\n",
       " ('2011-04-15'),\n",
       " ('2011-04-15'),\n",
       " ('2011-04-15'),\n",
       " ('2011-04-15'),\n",
       " ('2011-04-15'),\n",
       " ('2011-04-15'),\n",
       " ('2011-04-16'),\n",
       " ('2011-04-16'),\n",
       " ('2011-04-16'),\n",
       " ('2011-04-16'),\n",
       " ('2011-04-16'),\n",
       " ('2011-04-16'),\n",
       " ('2011-04-17'),\n",
       " ('2011-04-17'),\n",
       " ('2011-04-17'),\n",
       " ('2011-04-17'),\n",
       " ('2011-04-17'),\n",
       " ('2011-04-17'),\n",
       " ('2011-04-17'),\n",
       " ('2011-04-18'),\n",
       " ('2011-04-18'),\n",
       " ('2011-04-18'),\n",
       " ('2011-04-18'),\n",
       " ('2011-04-18'),\n",
       " ('2011-04-18'),\n",
       " ('2011-04-18'),\n",
       " ('2011-04-18'),\n",
       " ('2011-04-18'),\n",
       " ('2011-04-19'),\n",
       " ('2011-04-19'),\n",
       " ('2011-04-19'),\n",
       " ('2011-04-19'),\n",
       " ('2011-04-19'),\n",
       " ('2011-04-19'),\n",
       " ('2011-04-19'),\n",
       " ('2011-04-19'),\n",
       " ('2011-04-19'),\n",
       " ('2011-04-20'),\n",
       " ('2011-04-20'),\n",
       " ('2011-04-20'),\n",
       " ('2011-04-20'),\n",
       " ('2011-04-20'),\n",
       " ('2011-04-20'),\n",
       " ('2011-04-20'),\n",
       " ('2011-04-20'),\n",
       " ('2011-04-21'),\n",
       " ('2011-04-21'),\n",
       " ('2011-04-21'),\n",
       " ('2011-04-21'),\n",
       " ('2011-04-21'),\n",
       " ('2011-04-21'),\n",
       " ('2011-04-21'),\n",
       " ('2011-04-21'),\n",
       " ('2011-04-21'),\n",
       " ('2011-04-22'),\n",
       " ('2011-04-22'),\n",
       " ('2011-04-22'),\n",
       " ('2011-04-22'),\n",
       " ('2011-04-22'),\n",
       " ('2011-04-22'),\n",
       " ('2011-04-22'),\n",
       " ('2011-04-23'),\n",
       " ('2011-04-23'),\n",
       " ('2011-04-23'),\n",
       " ('2011-04-23'),\n",
       " ('2011-04-23'),\n",
       " ('2011-04-23'),\n",
       " ('2011-04-23'),\n",
       " ('2011-04-24'),\n",
       " ('2011-04-24'),\n",
       " ('2011-04-24'),\n",
       " ('2011-04-24'),\n",
       " ('2011-04-24'),\n",
       " ('2011-04-24'),\n",
       " ('2011-04-25'),\n",
       " ('2011-04-25'),\n",
       " ('2011-04-25'),\n",
       " ('2011-04-25'),\n",
       " ('2011-04-25'),\n",
       " ('2011-04-25'),\n",
       " ('2011-04-25'),\n",
       " ('2011-04-25'),\n",
       " ('2011-04-25'),\n",
       " ('2011-04-26'),\n",
       " ('2011-04-26'),\n",
       " ('2011-04-26'),\n",
       " ('2011-04-26'),\n",
       " ('2011-04-26'),\n",
       " ('2011-04-26'),\n",
       " ('2011-04-26'),\n",
       " ('2011-04-26'),\n",
       " ('2011-04-26'),\n",
       " ('2011-04-27'),\n",
       " ('2011-04-27'),\n",
       " ('2011-04-27'),\n",
       " ('2011-04-27'),\n",
       " ('2011-04-27'),\n",
       " ('2011-04-27'),\n",
       " ('2011-04-27'),\n",
       " ('2011-04-27'),\n",
       " ('2011-04-27'),\n",
       " ('2011-04-28'),\n",
       " ('2011-04-28'),\n",
       " ('2011-04-28'),\n",
       " ('2011-04-28'),\n",
       " ('2011-04-28'),\n",
       " ('2011-04-28'),\n",
       " ('2011-04-28'),\n",
       " ('2011-04-28'),\n",
       " ('2011-04-29'),\n",
       " ('2011-04-29'),\n",
       " ('2011-04-29'),\n",
       " ('2011-04-29'),\n",
       " ('2011-04-29'),\n",
       " ('2011-04-29'),\n",
       " ('2011-04-29'),\n",
       " ('2011-04-29'),\n",
       " ('2011-04-30'),\n",
       " ('2011-04-30'),\n",
       " ('2011-04-30'),\n",
       " ('2011-04-30'),\n",
       " ('2011-04-30'),\n",
       " ('2011-04-30'),\n",
       " ('2011-05-01'),\n",
       " ('2011-05-01'),\n",
       " ('2011-05-01'),\n",
       " ('2011-05-01'),\n",
       " ('2011-05-01'),\n",
       " ('2011-05-01'),\n",
       " ('2011-05-02'),\n",
       " ('2011-05-02'),\n",
       " ('2011-05-02'),\n",
       " ('2011-05-02'),\n",
       " ('2011-05-02'),\n",
       " ('2011-05-02'),\n",
       " ('2011-05-02'),\n",
       " ('2011-05-02'),\n",
       " ('2011-05-02'),\n",
       " ('2011-05-03'),\n",
       " ('2011-05-03'),\n",
       " ('2011-05-03'),\n",
       " ('2011-05-03'),\n",
       " ('2011-05-03'),\n",
       " ('2011-05-03'),\n",
       " ('2011-05-03'),\n",
       " ('2011-05-03'),\n",
       " ('2011-05-03'),\n",
       " ('2011-05-04'),\n",
       " ('2011-05-04'),\n",
       " ('2011-05-04'),\n",
       " ('2011-05-04'),\n",
       " ('2011-05-04'),\n",
       " ('2011-05-04'),\n",
       " ('2011-05-04'),\n",
       " ('2011-05-04'),\n",
       " ('2011-05-05'),\n",
       " ('2011-05-05'),\n",
       " ('2011-05-05'),\n",
       " ('2011-05-05'),\n",
       " ('2011-05-05'),\n",
       " ('2011-05-05'),\n",
       " ('2011-05-05'),\n",
       " ('2011-05-05'),\n",
       " ('2011-05-05'),\n",
       " ('2011-05-06'),\n",
       " ('2011-05-06'),\n",
       " ('2011-05-06'),\n",
       " ('2011-05-06'),\n",
       " ('2011-05-06'),\n",
       " ('2011-05-06'),\n",
       " ('2011-05-06'),\n",
       " ('2011-05-06'),\n",
       " ('2011-05-06'),\n",
       " ('2011-05-07'),\n",
       " ('2011-05-07'),\n",
       " ('2011-05-07'),\n",
       " ('2011-05-07'),\n",
       " ('2011-05-07'),\n",
       " ('2011-05-07'),\n",
       " ('2011-05-07'),\n",
       " ('2011-05-08'),\n",
       " ('2011-05-08'),\n",
       " ('2011-05-08'),\n",
       " ('2011-05-08'),\n",
       " ('2011-05-08'),\n",
       " ('2011-05-08'),\n",
       " ('2011-05-09'),\n",
       " ('2011-05-09'),\n",
       " ('2011-05-09'),\n",
       " ('2011-05-09'),\n",
       " ('2011-05-09'),\n",
       " ('2011-05-09'),\n",
       " ('2011-05-09'),\n",
       " ('2011-05-09'),\n",
       " ('2011-05-09'),\n",
       " ('2011-05-10'),\n",
       " ('2011-05-10'),\n",
       " ('2011-05-10'),\n",
       " ('2011-05-10'),\n",
       " ('2011-05-10'),\n",
       " ('2011-05-10'),\n",
       " ('2011-05-10'),\n",
       " ('2011-05-10'),\n",
       " ('2011-05-10'),\n",
       " ('2011-05-11'),\n",
       " ('2011-05-11'),\n",
       " ('2011-05-11'),\n",
       " ('2011-05-11'),\n",
       " ('2011-05-11'),\n",
       " ('2011-05-11'),\n",
       " ('2011-05-11'),\n",
       " ('2011-05-11'),\n",
       " ('2011-05-11'),\n",
       " ('2011-05-12'),\n",
       " ('2011-05-12'),\n",
       " ('2011-05-12'),\n",
       " ('2011-05-12'),\n",
       " ('2011-05-12'),\n",
       " ('2011-05-12'),\n",
       " ('2011-05-12'),\n",
       " ('2011-05-12'),\n",
       " ('2011-05-12'),\n",
       " ('2011-05-13'),\n",
       " ('2011-05-13'),\n",
       " ('2011-05-13'),\n",
       " ('2011-05-13'),\n",
       " ('2011-05-13'),\n",
       " ('2011-05-13'),\n",
       " ('2011-05-13'),\n",
       " ('2011-05-14'),\n",
       " ('2011-05-14'),\n",
       " ('2011-05-14'),\n",
       " ('2011-05-14'),\n",
       " ('2011-05-14'),\n",
       " ('2011-05-14'),\n",
       " ('2011-05-15'),\n",
       " ('2011-05-15'),\n",
       " ('2011-05-15'),\n",
       " ('2011-05-15'),\n",
       " ('2011-05-15'),\n",
       " ('2011-05-15'),\n",
       " ('2011-05-16'),\n",
       " ('2011-05-16'),\n",
       " ('2011-05-16'),\n",
       " ('2011-05-16'),\n",
       " ('2011-05-16'),\n",
       " ('2011-05-16'),\n",
       " ('2011-05-16'),\n",
       " ('2011-05-16'),\n",
       " ('2011-05-16'),\n",
       " ('2011-05-17'),\n",
       " ('2011-05-17'),\n",
       " ('2011-05-17'),\n",
       " ('2011-05-17'),\n",
       " ('2011-05-17'),\n",
       " ('2011-05-17'),\n",
       " ('2011-05-17'),\n",
       " ('2011-05-17'),\n",
       " ('2011-05-17'),\n",
       " ('2011-05-18'),\n",
       " ('2011-05-18'),\n",
       " ('2011-05-18'),\n",
       " ('2011-05-18'),\n",
       " ('2011-05-18'),\n",
       " ('2011-05-18'),\n",
       " ('2011-05-18'),\n",
       " ('2011-05-18'),\n",
       " ('2011-05-18'),\n",
       " ('2011-05-19'),\n",
       " ('2011-05-19'),\n",
       " ('2011-05-19'),\n",
       " ('2011-05-19'),\n",
       " ('2011-05-19'),\n",
       " ('2011-05-19'),\n",
       " ('2011-05-19'),\n",
       " ('2011-05-19'),\n",
       " ('2011-05-19'),\n",
       " ('2011-05-20'),\n",
       " ('2011-05-20'),\n",
       " ('2011-05-20'),\n",
       " ('2011-05-20'),\n",
       " ('2011-05-20'),\n",
       " ('2011-05-20'),\n",
       " ('2011-05-20'),\n",
       " ('2011-05-20'),\n",
       " ('2011-05-20'),\n",
       " ('2011-05-21'),\n",
       " ('2011-05-21'),\n",
       " ('2011-05-21'),\n",
       " ('2011-05-21'),\n",
       " ('2011-05-21'),\n",
       " ('2011-05-21'),\n",
       " ('2011-05-22'),\n",
       " ('2011-05-22'),\n",
       " ('2011-05-22'),\n",
       " ('2011-05-22'),\n",
       " ('2011-05-22'),\n",
       " ('2011-05-22'),\n",
       " ('2011-05-22'),\n",
       " ('2011-05-23'),\n",
       " ('2011-05-23'),\n",
       " ('2011-05-23'),\n",
       " ('2011-05-23'),\n",
       " ('2011-05-23'),\n",
       " ('2011-05-23'),\n",
       " ('2011-05-23'),\n",
       " ('2011-05-23'),\n",
       " ('2011-05-23'),\n",
       " ('2011-05-24'),\n",
       " ('2011-05-24'),\n",
       " ('2011-05-24'),\n",
       " ('2011-05-24'),\n",
       " ('2011-05-24'),\n",
       " ('2011-05-24'),\n",
       " ('2011-05-24'),\n",
       " ('2011-05-24'),\n",
       " ('2011-05-24'),\n",
       " ('2011-05-25'),\n",
       " ('2011-05-25'),\n",
       " ('2011-05-25'),\n",
       " ('2011-05-25'),\n",
       " ('2011-05-25'),\n",
       " ('2011-05-25'),\n",
       " ('2011-05-25'),\n",
       " ('2011-05-25'),\n",
       " ('2011-05-25'),\n",
       " ('2011-05-26'),\n",
       " ('2011-05-26'),\n",
       " ('2011-05-26'),\n",
       " ('2011-05-26'),\n",
       " ('2011-05-26'),\n",
       " ('2011-05-26'),\n",
       " ('2011-05-26'),\n",
       " ('2011-05-26'),\n",
       " ('2011-05-27'),\n",
       " ('2011-05-27'),\n",
       " ('2011-05-27'),\n",
       " ('2011-05-27'),\n",
       " ('2011-05-27'),\n",
       " ('2011-05-27'),\n",
       " ('2011-05-27'),\n",
       " ('2011-05-27'),\n",
       " ('2011-05-28'),\n",
       " ('2011-05-28'),\n",
       " ('2011-05-28'),\n",
       " ('2011-05-28'),\n",
       " ('2011-05-28'),\n",
       " ('2011-05-28'),\n",
       " ('2011-05-29'),\n",
       " ('2011-05-29'),\n",
       " ('2011-05-29'),\n",
       " ('2011-05-29'),\n",
       " ('2011-05-29'),\n",
       " ('2011-05-29'),\n",
       " ('2011-05-29'),\n",
       " ('2011-05-30'),\n",
       " ('2011-05-30'),\n",
       " ('2011-05-30'),\n",
       " ('2011-05-30'),\n",
       " ('2011-05-30'),\n",
       " ('2011-05-30'),\n",
       " ('2011-05-31'),\n",
       " ('2011-05-31'),\n",
       " ('2011-05-31'),\n",
       " ('2011-05-31'),\n",
       " ('2011-05-31'),\n",
       " ('2011-05-31'),\n",
       " ('2011-05-31'),\n",
       " ('2011-05-31'),\n",
       " ('2011-06-01'),\n",
       " ('2011-06-01'),\n",
       " ('2011-06-01'),\n",
       " ('2011-06-01'),\n",
       " ('2011-06-01'),\n",
       " ('2011-06-01'),\n",
       " ('2011-06-01'),\n",
       " ('2011-06-01'),\n",
       " ('2011-06-02'),\n",
       " ('2011-06-02'),\n",
       " ('2011-06-02'),\n",
       " ('2011-06-02'),\n",
       " ('2011-06-02'),\n",
       " ('2011-06-02'),\n",
       " ('2011-06-02'),\n",
       " ('2011-06-02'),\n",
       " ('2011-06-03'),\n",
       " ('2011-06-03'),\n",
       " ('2011-06-03'),\n",
       " ('2011-06-03'),\n",
       " ('2011-06-03'),\n",
       " ('2011-06-03'),\n",
       " ('2011-06-03'),\n",
       " ('2011-06-03'),\n",
       " ('2011-06-04'),\n",
       " ('2011-06-04'),\n",
       " ('2011-06-04'),\n",
       " ('2011-06-04'),\n",
       " ('2011-06-04'),\n",
       " ('2011-06-04'),\n",
       " ('2011-06-05'),\n",
       " ('2011-06-05'),\n",
       " ('2011-06-05'),\n",
       " ('2011-06-05'),\n",
       " ('2011-06-05'),\n",
       " ('2011-06-05'),\n",
       " ('2011-06-06'),\n",
       " ('2011-06-06'),\n",
       " ('2011-06-06'),\n",
       " ('2011-06-06'),\n",
       " ('2011-06-06'),\n",
       " ('2011-06-06'),\n",
       " ('2011-06-06'),\n",
       " ('2011-06-07'),\n",
       " ('2011-06-07'),\n",
       " ('2011-06-07'),\n",
       " ('2011-06-07'),\n",
       " ('2011-06-07'),\n",
       " ('2011-06-07'),\n",
       " ('2011-06-07'),\n",
       " ('2011-06-08'),\n",
       " ('2011-06-08'),\n",
       " ('2011-06-08'),\n",
       " ('2011-06-08'),\n",
       " ('2011-06-08'),\n",
       " ('2011-06-08'),\n",
       " ('2011-06-08'),\n",
       " ('2011-06-08'),\n",
       " ('2011-06-08'),\n",
       " ('2011-06-09'),\n",
       " ('2011-06-09'),\n",
       " ('2011-06-09'),\n",
       " ('2011-06-09'),\n",
       " ('2011-06-09'),\n",
       " ('2011-06-09'),\n",
       " ('2011-06-09'),\n",
       " ('2011-06-09'),\n",
       " ('2011-06-09'),\n",
       " ('2011-06-10'),\n",
       " ('2011-06-10'),\n",
       " ('2011-06-10'),\n",
       " ('2011-06-10'),\n",
       " ('2011-06-10'),\n",
       " ('2011-06-10'),\n",
       " ('2011-06-10'),\n",
       " ('2011-06-11'),\n",
       " ('2011-06-11'),\n",
       " ('2011-06-11'),\n",
       " ('2011-06-11'),\n",
       " ('2011-06-11'),\n",
       " ('2011-06-11'),\n",
       " ('2011-06-12'),\n",
       " ('2011-06-12'),\n",
       " ('2011-06-12'),\n",
       " ('2011-06-12'),\n",
       " ('2011-06-12'),\n",
       " ('2011-06-12'),\n",
       " ('2011-06-12'),\n",
       " ('2011-06-13'),\n",
       " ('2011-06-13'),\n",
       " ('2011-06-13'),\n",
       " ('2011-06-13'),\n",
       " ('2011-06-13'),\n",
       " ('2011-06-13'),\n",
       " ('2011-06-13'),\n",
       " ('2011-06-13'),\n",
       " ('2011-06-13'),\n",
       " ('2011-06-14'),\n",
       " ('2011-06-14'),\n",
       " ('2011-06-14'),\n",
       " ('2011-06-14'),\n",
       " ('2011-06-14'),\n",
       " ('2011-06-14'),\n",
       " ('2011-06-14'),\n",
       " ('2011-06-14'),\n",
       " ('2011-06-14'),\n",
       " ('2011-06-15'),\n",
       " ('2011-06-15'),\n",
       " ('2011-06-15'),\n",
       " ('2011-06-15'),\n",
       " ('2011-06-15'),\n",
       " ('2011-06-15'),\n",
       " ('2011-06-15'),\n",
       " ('2011-06-15'),\n",
       " ('2011-06-15'),\n",
       " ('2011-06-16'),\n",
       " ('2011-06-16'),\n",
       " ('2011-06-16'),\n",
       " ('2011-06-16'),\n",
       " ('2011-06-16'),\n",
       " ('2011-06-16'),\n",
       " ('2011-06-16'),\n",
       " ('2011-06-16'),\n",
       " ('2011-06-17'),\n",
       " ('2011-06-17'),\n",
       " ('2011-06-17'),\n",
       " ('2011-06-17'),\n",
       " ('2011-06-17'),\n",
       " ('2011-06-17'),\n",
       " ('2011-06-17'),\n",
       " ('2011-06-17'),\n",
       " ('2011-06-18'),\n",
       " ('2011-06-18'),\n",
       " ('2011-06-18'),\n",
       " ('2011-06-18'),\n",
       " ('2011-06-18'),\n",
       " ('2011-06-18'),\n",
       " ('2011-06-18'),\n",
       " ('2011-06-19'),\n",
       " ('2011-06-19'),\n",
       " ('2011-06-19'),\n",
       " ('2011-06-19'),\n",
       " ('2011-06-19'),\n",
       " ('2011-06-19'),\n",
       " ('2011-06-19'),\n",
       " ('2011-06-20'),\n",
       " ('2011-06-20'),\n",
       " ('2011-06-20'),\n",
       " ('2011-06-20'),\n",
       " ('2011-06-20'),\n",
       " ('2011-06-20'),\n",
       " ('2011-06-20'),\n",
       " ('2011-06-20'),\n",
       " ('2011-06-21'),\n",
       " ('2011-06-21'),\n",
       " ('2011-06-21'),\n",
       " ('2011-06-21'),\n",
       " ('2011-06-21'),\n",
       " ('2011-06-21'),\n",
       " ('2011-06-21'),\n",
       " ('2011-06-21'),\n",
       " ('2011-06-21'),\n",
       " ('2011-06-22'),\n",
       " ('2011-06-22'),\n",
       " ('2011-06-22'),\n",
       " ('2011-06-22'),\n",
       " ('2011-06-22'),\n",
       " ('2011-06-22'),\n",
       " ('2011-06-22'),\n",
       " ('2011-06-22'),\n",
       " ('2011-06-23'),\n",
       " ('2011-06-23'),\n",
       " ('2011-06-23'),\n",
       " ('2011-06-23'),\n",
       " ('2011-06-23'),\n",
       " ('2011-06-23'),\n",
       " ('2011-06-23'),\n",
       " ('2011-06-24'),\n",
       " ('2011-06-24'),\n",
       " ('2011-06-24'),\n",
       " ('2011-06-24'),\n",
       " ('2011-06-24'),\n",
       " ('2011-06-24'),\n",
       " ('2011-06-24'),\n",
       " ('2011-06-24'),\n",
       " ('2011-06-25'),\n",
       " ('2011-06-25'),\n",
       " ('2011-06-25'),\n",
       " ('2011-06-25'),\n",
       " ('2011-06-25'),\n",
       " ('2011-06-25'),\n",
       " ('2011-06-25'),\n",
       " ('2011-06-26'),\n",
       " ('2011-06-26'),\n",
       " ('2011-06-26'),\n",
       " ('2011-06-26'),\n",
       " ('2011-06-26'),\n",
       " ('2011-06-26'),\n",
       " ('2011-06-27'),\n",
       " ('2011-06-27'),\n",
       " ('2011-06-27'),\n",
       " ('2011-06-27'),\n",
       " ('2011-06-27'),\n",
       " ('2011-06-27'),\n",
       " ('2011-06-27'),\n",
       " ('2011-06-27'),\n",
       " ('2011-06-28'),\n",
       " ('2011-06-28'),\n",
       " ('2011-06-28'),\n",
       " ('2011-06-28'),\n",
       " ('2011-06-28'),\n",
       " ('2011-06-28'),\n",
       " ('2011-06-28'),\n",
       " ('2011-06-28'),\n",
       " ('2011-06-29'),\n",
       " ('2011-06-29'),\n",
       " ('2011-06-29'),\n",
       " ('2011-06-29'),\n",
       " ('2011-06-29'),\n",
       " ('2011-06-29'),\n",
       " ('2011-06-29'),\n",
       " ('2011-06-30'),\n",
       " ('2011-06-30'),\n",
       " ('2011-06-30'),\n",
       " ('2011-06-30'),\n",
       " ('2011-06-30'),\n",
       " ('2011-06-30'),\n",
       " ('2011-07-01'),\n",
       " ('2011-07-01'),\n",
       " ('2011-07-01'),\n",
       " ('2011-07-01'),\n",
       " ('2011-07-01'),\n",
       " ('2011-07-01'),\n",
       " ('2011-07-01'),\n",
       " ('2011-07-01'),\n",
       " ('2011-07-02'),\n",
       " ('2011-07-02'),\n",
       " ('2011-07-02'),\n",
       " ('2011-07-02'),\n",
       " ('2011-07-02'),\n",
       " ('2011-07-02'),\n",
       " ('2011-07-03'),\n",
       " ('2011-07-03'),\n",
       " ('2011-07-03'),\n",
       " ('2011-07-03'),\n",
       " ('2011-07-03'),\n",
       " ('2011-07-03'),\n",
       " ('2011-07-03'),\n",
       " ('2011-07-04'),\n",
       " ('2011-07-04'),\n",
       " ('2011-07-04'),\n",
       " ('2011-07-04'),\n",
       " ('2011-07-04'),\n",
       " ('2011-07-04'),\n",
       " ('2011-07-04'),\n",
       " ('2011-07-05'),\n",
       " ('2011-07-05'),\n",
       " ('2011-07-05'),\n",
       " ('2011-07-05'),\n",
       " ('2011-07-05'),\n",
       " ('2011-07-05'),\n",
       " ('2011-07-05'),\n",
       " ('2011-07-06'),\n",
       " ('2011-07-06'),\n",
       " ('2011-07-06'),\n",
       " ('2011-07-06'),\n",
       " ('2011-07-06'),\n",
       " ('2011-07-06'),\n",
       " ('2011-07-06'),\n",
       " ('2011-07-06'),\n",
       " ('2011-07-06'),\n",
       " ('2011-07-07'),\n",
       " ('2011-07-07'),\n",
       " ('2011-07-07'),\n",
       " ('2011-07-07'),\n",
       " ('2011-07-07'),\n",
       " ('2011-07-07'),\n",
       " ('2011-07-07'),\n",
       " ('2011-07-07'),\n",
       " ('2011-07-08'),\n",
       " ('2011-07-08'),\n",
       " ('2011-07-08'),\n",
       " ('2011-07-08'),\n",
       " ('2011-07-08'),\n",
       " ('2011-07-08'),\n",
       " ('2011-07-08'),\n",
       " ('2011-07-08'),\n",
       " ('2011-07-09'),\n",
       " ('2011-07-09'),\n",
       " ('2011-07-09'),\n",
       " ('2011-07-09'),\n",
       " ('2011-07-09'),\n",
       " ('2011-07-09'),\n",
       " ('2011-07-10'),\n",
       " ...]"
      ]
     },
     "execution_count": 73,
     "metadata": {},
     "output_type": "execute_result"
    }
   ],
   "source": [
    "# --------------------------------------------------------------------------------------------------\n",
    "# .  Do not confuse Measurement which is DB Class_Table, with measurement which is a column. \"M\" vs. \"m\"\n",
    "# .  Should have used a better name for Measurement, like MeasureDB or MeasureTable\n",
    "# --------------------------------------------------------------------------------------------------\n",
    "session.query(Measurement.date).\\\n",
    "    filter(Measurement.date > '2011-03-01').\\\n",
    "    order_by(Measurement.date).all()"
   ]
  },
  {
   "cell_type": "code",
   "execution_count": 74,
   "metadata": {},
   "outputs": [],
   "source": [
    "# What are the most active stations? (i.e. what stations have the most rows)?\n",
    "# List the stations and the counts in descending order.\n",
    "#                                              'USC00519281', 2772"
   ]
  },
  {
   "cell_type": "code",
   "execution_count": 75,
   "metadata": {
    "scrolled": false
   },
   "outputs": [
    {
     "data": {
      "text/plain": [
       "[('USC00519281', 2772),\n",
       " ('USC00519397', 2724),\n",
       " ('USC00513117', 2709),\n",
       " ('USC00519523', 2669),\n",
       " ('USC00516128', 2612),\n",
       " ('USC00514830', 2202),\n",
       " ('USC00511918', 1979),\n",
       " ('USC00517948', 1372),\n",
       " ('USC00518838', 511)]"
      ]
     },
     "execution_count": 75,
     "metadata": {},
     "output_type": "execute_result"
    }
   ],
   "source": [
    "#-----------------------------------------------------------------------------------------------\n",
    "#                                 Report #2:\n",
    "# What are the most active stations? (i.e. what stations have the most rows)?\n",
    "# List the stations and the counts in descending order.\n",
    "#                                          and sort the output in descending order.\n",
    "#                  This is achieved thru a simple (Session)-(querry)-(Group_by)-(Func)-(Order)\n",
    "#                                                                 Piruz Alemi Jan 11th, 2020\n",
    "#----------------------------------------------------------------------------------------------\n",
    "session.query(Measurement.station, func.count(Measurement.station)).\\\n",
    "    group_by(Measurement.station).\\\n",
    "    order_by(func.count(Measurement.station).desc()).all()"
   ]
  },
  {
   "cell_type": "code",
   "execution_count": 76,
   "metadata": {},
   "outputs": [
    {
     "name": "stdout",
     "output_type": "stream",
     "text": [
      "[(9,)]\n"
     ]
    }
   ],
   "source": [
    "#------------------------------------------------------------------------------------\n",
    "#                         Fetchone, FetchMany, Fetchall \n",
    "#------------------------------------------------------------------------------------\n",
    "from sqlalchemy.sql import func\n",
    "result = conn.execute(select([func.count(Station.id)]))\n",
    "print (result.fetchall())\n",
    "#print(result)"
   ]
  },
  {
   "cell_type": "code",
   "execution_count": 77,
   "metadata": {},
   "outputs": [
    {
     "data": {
      "text/plain": [
       "[(9)]"
      ]
     },
     "execution_count": 77,
     "metadata": {},
     "output_type": "execute_result"
    }
   ],
   "source": [
    "session.query(func.count(Station.id)).all()"
   ]
  },
  {
   "cell_type": "code",
   "execution_count": 78,
   "metadata": {},
   "outputs": [
    {
     "data": {
      "text/plain": [
       "9"
      ]
     },
     "execution_count": 78,
     "metadata": {},
     "output_type": "execute_result"
    }
   ],
   "source": [
    "# Number of Unique Stations\n",
    "session.query(Station.id).order_by(Station.id).count()"
   ]
  },
  {
   "cell_type": "code",
   "execution_count": 79,
   "metadata": {},
   "outputs": [
    {
     "data": {
      "text/plain": [
       "[(8, 'USC00511918', 0.9),\n",
       " (1, 'USC00519397', 3.0),\n",
       " (3, 'USC00514830', 7.0),\n",
       " (4, 'USC00517948', 11.9),\n",
       " (2, 'USC00513117', 14.6),\n",
       " (6, 'USC00519523', 19.5),\n",
       " (7, 'USC00519281', 32.9),\n",
       " (9, 'USC00516128', 152.4),\n",
       " (5, 'USC00518838', 306.6)]"
      ]
     },
     "execution_count": 79,
     "metadata": {},
     "output_type": "execute_result"
    }
   ],
   "source": [
    "# -------------------------------------------------------------------------------\n",
    "# Query for all the Stations \n",
    "# find the max latitude & Min Longitude and avg elevation\n",
    "# -------------------------------------------------------------------------------\n",
    "#                    Sort the result by elevation! \n",
    "#                    order_by([COLUMN]): Sorts results by the provided column. \n",
    "# -------------------------------------------------------------------------------\n",
    "sel = [Station.id, Station.station,\n",
    "#       func.min(Station.latitude), \n",
    "#       func.min(Station.longitude),  \n",
    "       func.avg(Station.elevation)]\n",
    "Station_Stats = session.query(*sel).\\\n",
    "    group_by(Station.id).\\\n",
    "    order_by(Station.elevation).all()\n",
    "Station_Stats"
   ]
  },
  {
   "cell_type": "code",
   "execution_count": 80,
   "metadata": {},
   "outputs": [
    {
     "data": {
      "text/plain": [
       "[('USC00517948', 43.44000000000002),\n",
       " ('USC00518838', 70.87000000000005),\n",
       " ('USC00511918', 92.68000000000006),\n",
       " ('USC00519397', 131.62000000000063),\n",
       " ('USC00514830', 234.49000000000026),\n",
       " ('USC00519523', 295.67999999999944),\n",
       " ('USC00513117', 382.61999999999847),\n",
       " ('USC00519281', 588.6399999999976),\n",
       " ('USC00516128', 1068.0899999999956)]"
      ]
     },
     "execution_count": 80,
     "metadata": {},
     "output_type": "execute_result"
    }
   ],
   "source": [
    "#----------------------------------------------------------------------------------------\n",
    "#                         Query for all the measurements \n",
    "#                         find the total Percipitation for each station\n",
    "#                         Sort the result by percipitation in Ascending order\n",
    "#---------------------------------------------------------------------------------------\n",
    "sel = [Measurement.station, \n",
    "       func.sum(Measurement.prcp)]\n",
    "Measurement_Stats = session.query(*sel).\\\n",
    "    group_by(Measurement.station).\\\n",
    "    order_by(func.sum(Measurement.prcp).asc()).all()\n",
    "Measurement_Stats"
   ]
  },
  {
   "cell_type": "code",
   "execution_count": 81,
   "metadata": {
    "scrolled": false
   },
   "outputs": [
    {
     "data": {
      "text/plain": [
       "[(13294, 'USC00519281', '2013-01-16', 85.0, 54.0, 71.66378066378067)]"
      ]
     },
     "execution_count": 81,
     "metadata": {},
     "output_type": "execute_result"
    }
   ],
   "source": [
    "#----------------------------------------------------------------------------------------------\n",
    "#                                             Report #3:\n",
    "#     Using the station id from the previous query, calculate the lowest temperature recorded, \n",
    "#     highest temperature recorded, and average temperature of the most active station?\n",
    "#----------------------------------------------------------------------------------------------\n",
    "sel = [Measurement.id, Measurement.station, Measurement.date,\n",
    "       func.max(Measurement.tobs),  \n",
    "       func.min(Measurement.tobs), \n",
    "       func.avg(Measurement.tobs)]\n",
    "Measurement_Stats = session.query(*sel).\\\n",
    "        filter(Measurement.station == 'USC00519281').\\\n",
    "        group_by(Measurement.station).\\\n",
    "        order_by(func.sum(Measurement.tobs).desc()).all()\n",
    "Measurement_Stats"
   ]
  },
  {
   "cell_type": "code",
   "execution_count": 82,
   "metadata": {},
   "outputs": [
    {
     "data": {
      "text/plain": [
       "[(13294, 'USC00519281', '2013-01-16', 85.0, 54.0, 71.66378066378067)]"
      ]
     },
     "execution_count": 82,
     "metadata": {},
     "output_type": "execute_result"
    }
   ],
   "source": [
    "#---------------------------------------------------------------------------------------\n",
    "# .         The Group by of previous table is unecessary, hence this rerun\n",
    "#---------------------------------------------------------------------------------------\n",
    "\n",
    "sel = [Measurement.id, Measurement.station, Measurement.date,\n",
    "       func.max(Measurement.tobs),  \n",
    "       func.min(Measurement.tobs), \n",
    "       func.avg(Measurement.tobs)]\n",
    "Measurement_Stats = session.query(*sel).\\\n",
    "        filter(Measurement.station == 'USC00519281').\\\n",
    "        order_by(func.sum(Measurement.tobs).desc()).all()\n",
    "Measurement_Stats"
   ]
  },
  {
   "cell_type": "code",
   "execution_count": 83,
   "metadata": {},
   "outputs": [
    {
     "data": {
      "text/plain": [
       "(53.0)"
      ]
     },
     "execution_count": 83,
     "metadata": {},
     "output_type": "execute_result"
    }
   ],
   "source": [
    "session.query(Measurement.tobs).order_by(Measurement.tobs).first()"
   ]
  },
  {
   "cell_type": "code",
   "execution_count": 84,
   "metadata": {
    "scrolled": true
   },
   "outputs": [
    {
     "data": {
      "text/plain": [
       "[(9008, 'USC00518838', '2010-01-01', 511),\n",
       " (7636, 'USC00517948', '2010-05-03', 1372),\n",
       " (14960, 'USC00511918', '2010-01-01', 1979),\n",
       " (5434, 'USC00514830', '2010-03-01', 2202),\n",
       " (16939, 'USC00516128', '2010-01-01', 2612),\n",
       " (9519, 'USC00519523', '2010-01-01', 2669),\n",
       " (2725, 'USC00513117', '2010-01-01', 2709),\n",
       " (1, 'USC00519397', '2010-01-01', 2724),\n",
       " (12188, 'USC00519281', '2010-01-01', 2772)]"
      ]
     },
     "execution_count": 84,
     "metadata": {},
     "output_type": "execute_result"
    }
   ],
   "source": [
    "# ----------------------------------------------------------------------------------\n",
    "# -                             B O N U S                  !!!!!!!!!!!!!!!!!!!!!!!!\n",
    "# ---------------------------------------------------------------------------------\n",
    "# BONUS: Query and print the number of unique Locations\n",
    "# Hints: Look into counting and grouping operations in SQLAlchemy\n",
    "# locations = session.query(Measurement).group_by(Measurement.station).count()\n",
    "# print(locations)\n",
    "sel = [Measurement.id, Measurement.station, Measurement.date,\n",
    "       func.count(Measurement.station)]\n",
    "Measurement_Stats = session.query(*sel).\\\n",
    "        group_by(Measurement.station).\\\n",
    "        order_by(func.count(Measurement.station).asc()).all()\n",
    "Measurement_Stats"
   ]
  },
  {
   "cell_type": "code",
   "execution_count": 85,
   "metadata": {},
   "outputs": [
    {
     "name": "stdout",
     "output_type": "stream",
     "text": [
      "(65.0, 'USC00519397')\n",
      "(63.0, 'USC00519397')\n",
      "(74.0, 'USC00519397')\n",
      "(76.0, 'USC00519397')\n",
      "(73.0, 'USC00519397')\n"
     ]
    }
   ],
   "source": [
    "for row in session.query(Measurement.tobs, Measurement.station).limit(5).all():\n",
    "    print(row)"
   ]
  },
  {
   "cell_type": "code",
   "execution_count": 86,
   "metadata": {},
   "outputs": [
    {
     "data": {
      "text/plain": [
       "[('USC00519397', '2010-08-23', 213, 87.0),\n",
       " ('USC00519397', '2017-05-23', 2636, 87.0),\n",
       " ('USC00517948', '2017-07-03', 8991, 87.0),\n",
       " ('USC00511918', '2010-09-19', 15210, 87.0)]"
      ]
     },
     "execution_count": 86,
     "metadata": {},
     "output_type": "execute_result"
    }
   ],
   "source": [
    "# --------------------------------------------------------------------------------\n",
    "#                              Report #4:\n",
    "#         Query Measurement Columns and save the query into results\n",
    "#         Find the Station with the highest Temperature Registered\n",
    "# --------------------------------------------------------------------------------\n",
    "results = session.query(Measurement.station, Measurement.date, Measurement.id, Measurement.tobs).\\\n",
    "        filter(Measurement.tobs >= 87).\\\n",
    "    order_by(Measurement.tobs).all()\n",
    "results"
   ]
  },
  {
   "cell_type": "code",
   "execution_count": 87,
   "metadata": {
    "scrolled": true
   },
   "outputs": [
    {
     "data": {
      "text/html": [
       "<div>\n",
       "<style scoped>\n",
       "    .dataframe tbody tr th:only-of-type {\n",
       "        vertical-align: middle;\n",
       "    }\n",
       "\n",
       "    .dataframe tbody tr th {\n",
       "        vertical-align: top;\n",
       "    }\n",
       "\n",
       "    .dataframe thead th {\n",
       "        text-align: right;\n",
       "    }\n",
       "</style>\n",
       "<table border=\"1\" class=\"dataframe\">\n",
       "  <thead>\n",
       "    <tr style=\"text-align: right;\">\n",
       "      <th></th>\n",
       "      <th>id</th>\n",
       "      <th>station</th>\n",
       "      <th>date</th>\n",
       "      <th>prcp</th>\n",
       "      <th>tobs</th>\n",
       "      <th>mmdd</th>\n",
       "      <th>scalar_date</th>\n",
       "    </tr>\n",
       "  </thead>\n",
       "  <tbody>\n",
       "    <tr>\n",
       "      <td>2347</td>\n",
       "      <td>2348</td>\n",
       "      <td>USC00519397</td>\n",
       "      <td>2016-08-07</td>\n",
       "      <td>0.39</td>\n",
       "      <td>77.0</td>\n",
       "      <td>None</td>\n",
       "      <td>20160807</td>\n",
       "    </tr>\n",
       "    <tr>\n",
       "      <td>2348</td>\n",
       "      <td>2349</td>\n",
       "      <td>USC00519397</td>\n",
       "      <td>2016-08-08</td>\n",
       "      <td>0.02</td>\n",
       "      <td>81.0</td>\n",
       "      <td>None</td>\n",
       "      <td>20160808</td>\n",
       "    </tr>\n",
       "    <tr>\n",
       "      <td>2349</td>\n",
       "      <td>2350</td>\n",
       "      <td>USC00519397</td>\n",
       "      <td>2016-08-09</td>\n",
       "      <td>0.00</td>\n",
       "      <td>80.0</td>\n",
       "      <td>None</td>\n",
       "      <td>20160809</td>\n",
       "    </tr>\n",
       "    <tr>\n",
       "      <td>2350</td>\n",
       "      <td>2351</td>\n",
       "      <td>USC00519397</td>\n",
       "      <td>2016-08-10</td>\n",
       "      <td>0.00</td>\n",
       "      <td>80.0</td>\n",
       "      <td>None</td>\n",
       "      <td>20160810</td>\n",
       "    </tr>\n",
       "    <tr>\n",
       "      <td>2351</td>\n",
       "      <td>2352</td>\n",
       "      <td>USC00519397</td>\n",
       "      <td>2016-08-11</td>\n",
       "      <td>0.00</td>\n",
       "      <td>80.0</td>\n",
       "      <td>None</td>\n",
       "      <td>20160811</td>\n",
       "    </tr>\n",
       "    <tr>\n",
       "      <td>...</td>\n",
       "      <td>...</td>\n",
       "      <td>...</td>\n",
       "      <td>...</td>\n",
       "      <td>...</td>\n",
       "      <td>...</td>\n",
       "      <td>...</td>\n",
       "      <td>...</td>\n",
       "    </tr>\n",
       "    <tr>\n",
       "      <td>19545</td>\n",
       "      <td>19546</td>\n",
       "      <td>USC00516128</td>\n",
       "      <td>2017-08-19</td>\n",
       "      <td>0.09</td>\n",
       "      <td>71.0</td>\n",
       "      <td>None</td>\n",
       "      <td>20170819</td>\n",
       "    </tr>\n",
       "    <tr>\n",
       "      <td>19546</td>\n",
       "      <td>19547</td>\n",
       "      <td>USC00516128</td>\n",
       "      <td>2017-08-20</td>\n",
       "      <td>NaN</td>\n",
       "      <td>78.0</td>\n",
       "      <td>None</td>\n",
       "      <td>20170820</td>\n",
       "    </tr>\n",
       "    <tr>\n",
       "      <td>19547</td>\n",
       "      <td>19548</td>\n",
       "      <td>USC00516128</td>\n",
       "      <td>2017-08-21</td>\n",
       "      <td>0.56</td>\n",
       "      <td>76.0</td>\n",
       "      <td>None</td>\n",
       "      <td>20170821</td>\n",
       "    </tr>\n",
       "    <tr>\n",
       "      <td>19548</td>\n",
       "      <td>19549</td>\n",
       "      <td>USC00516128</td>\n",
       "      <td>2017-08-22</td>\n",
       "      <td>0.50</td>\n",
       "      <td>76.0</td>\n",
       "      <td>None</td>\n",
       "      <td>20170822</td>\n",
       "    </tr>\n",
       "    <tr>\n",
       "      <td>19549</td>\n",
       "      <td>19550</td>\n",
       "      <td>USC00516128</td>\n",
       "      <td>2017-08-23</td>\n",
       "      <td>0.45</td>\n",
       "      <td>76.0</td>\n",
       "      <td>None</td>\n",
       "      <td>20170823</td>\n",
       "    </tr>\n",
       "  </tbody>\n",
       "</table>\n",
       "<p>2334 rows × 7 columns</p>\n",
       "</div>"
      ],
      "text/plain": [
       "          id      station        date  prcp  tobs  mmdd  scalar_date\n",
       "2347    2348  USC00519397  2016-08-07  0.39  77.0  None     20160807\n",
       "2348    2349  USC00519397  2016-08-08  0.02  81.0  None     20160808\n",
       "2349    2350  USC00519397  2016-08-09  0.00  80.0  None     20160809\n",
       "2350    2351  USC00519397  2016-08-10  0.00  80.0  None     20160810\n",
       "2351    2352  USC00519397  2016-08-11  0.00  80.0  None     20160811\n",
       "...      ...          ...         ...   ...   ...   ...          ...\n",
       "19545  19546  USC00516128  2017-08-19  0.09  71.0  None     20170819\n",
       "19546  19547  USC00516128  2017-08-20   NaN  78.0  None     20170820\n",
       "19547  19548  USC00516128  2017-08-21  0.56  76.0  None     20170821\n",
       "19548  19549  USC00516128  2017-08-22  0.50  76.0  None     20170822\n",
       "19549  19550  USC00516128  2017-08-23  0.45  76.0  None     20170823\n",
       "\n",
       "[2334 rows x 7 columns]"
      ]
     },
     "execution_count": 87,
     "metadata": {},
     "output_type": "execute_result"
    }
   ],
   "source": [
    "#------------------------------------------------------------------------------------\n",
    "#-                                Report #5\n",
    "#-                     Report Stations in the last 12 months\n",
    "#-                  Should point to Dfs, where the data frame was sorted by date\n",
    "#------------------------------------------------------------------------------------\n",
    "df2.loc[df2['date'] >= df2['date'].iloc[-365]]"
   ]
  },
  {
   "cell_type": "code",
   "execution_count": 88,
   "metadata": {},
   "outputs": [
    {
     "data": {
      "text/plain": [
       "[('2017-04-30', 58.0),\n",
       " ('2017-02-02', 59.0),\n",
       " ('2017-01-08', 60.0),\n",
       " ('2017-02-02', 61.0),\n",
       " ('2016-12-16', 62.0),\n",
       " ('2017-01-03', 63.0),\n",
       " ('2017-01-06', 64.0),\n",
       " ('2017-01-14', 65.0),\n",
       " ('2016-12-12', 66.0),\n",
       " ('2016-12-06', 67.0),\n",
       " ('2016-11-29', 68.0),\n",
       " ('2016-12-03', 69.0),\n",
       " ('2016-12-09', 70.0),\n",
       " ('2016-11-07', 71.0),\n",
       " ('2016-11-11', 72.0),\n",
       " ('2016-11-26', 73.0),\n",
       " ('2016-11-24', 74.0),\n",
       " ('2016-09-04', 75.0),\n",
       " ('2016-08-21', 76.0),\n",
       " ('2016-08-07', 77.0),\n",
       " ('2016-08-17', 78.0),\n",
       " ('2016-08-12', 79.0),\n",
       " ('2016-08-09', 80.0),\n",
       " ('2016-08-08', 81.0),\n",
       " ('2016-09-23', 82.0),\n",
       " ('2017-06-12', 83.0),\n",
       " ('2016-08-26', 84.0),\n",
       " ('2017-08-19', 85.0),\n",
       " ('2017-05-23', 87.0)]"
      ]
     },
     "execution_count": 88,
     "metadata": {},
     "output_type": "execute_result"
    }
   ],
   "source": [
    "results = session.query(Measurement.date, Measurement.tobs).\\\n",
    "     filter(Measurement.date >= '2016-08-07').\\\n",
    "    group_by(Measurement.tobs).\\\n",
    "    order_by(Measurement.tobs).all()\n",
    "results[0::]"
   ]
  },
  {
   "cell_type": "code",
   "execution_count": 89,
   "metadata": {},
   "outputs": [
    {
     "data": {
      "text/plain": [
       "[(60.0, 1),\n",
       " (61.0, 2),\n",
       " (62.0, 4),\n",
       " (63.0, 4),\n",
       " (64.0, 5),\n",
       " (65.0, 4),\n",
       " (66.0, 8),\n",
       " (67.0, 7),\n",
       " (68.0, 7),\n",
       " (69.0, 10),\n",
       " (70.0, 9),\n",
       " (71.0, 21),\n",
       " (72.0, 17),\n",
       " (73.0, 13),\n",
       " (74.0, 16),\n",
       " (75.0, 21),\n",
       " (76.0, 25),\n",
       " (77.0, 41),\n",
       " (78.0, 37),\n",
       " (79.0, 45),\n",
       " (80.0, 54),\n",
       " (81.0, 21),\n",
       " (82.0, 3),\n",
       " (83.0, 1),\n",
       " (87.0, 1)]"
      ]
     },
     "execution_count": 89,
     "metadata": {},
     "output_type": "execute_result"
    }
   ],
   "source": [
    "# ----------------------------------------------------------------------------------------\n",
    "#                                  Report #5:\n",
    "# ----------------------------------------------------------------------------------------\n",
    "#               Query Measurement Columns and save the query into results\n",
    "#                       Towards the data necessary for Mplot\n",
    "# ----------------------------------------------------------------------------------------\n",
    "#   a. Designed a query to retrieve the last 12 months of temperature observation data (tobs).\n",
    "#   b. Filter by the station with the highest number of observations.\n",
    "#   c. Plot the results as a histogram with `bins=12`\n",
    "# ----------------------------------------------------------------------------------------\n",
    "sel = [Measurement.tobs, func.count(Measurement.tobs)]\n",
    "results2 = session.query(*sel).\\\n",
    "        filter(Measurement.date >= '2016-08-07').\\\n",
    "         filter(Measurement.station == 'USC00519397').\\\n",
    "        group_by(Measurement.tobs).\\\n",
    "        order_by(Measurement.tobs).all()\n",
    "results2\n"
   ]
  },
  {
   "cell_type": "code",
   "execution_count": 90,
   "metadata": {},
   "outputs": [
    {
     "data": {
      "text/plain": [
       "65"
      ]
     },
     "execution_count": 90,
     "metadata": {},
     "output_type": "execute_result"
    }
   ],
   "source": [
    "#---------------------------------------------------------------------------------------\n",
    "# Unpack the `Temp_scores` & Its Freq from results and save into separate lists\n",
    "#                       That will be used for MPLOT\n",
    "#---------------------------------------------------------------------------------------\n",
    "temp_scores = [int(result[0]) for result in results2[::]]\n",
    "Freq = [result[1] for result in results2[::]]\n",
    "temp_scores[5]"
   ]
  },
  {
   "cell_type": "code",
   "execution_count": null,
   "metadata": {},
   "outputs": [],
   "source": []
  },
  {
   "cell_type": "code",
   "execution_count": 91,
   "metadata": {
    "scrolled": false
   },
   "outputs": [
    {
     "data": {
      "image/png": "[encoded data removed]",
      "text/plain": [
       "<Figure size 432x288 with 1 Axes>"
      ]
     },
     "metadata": {
      "needs_background": "light"
     },
     "output_type": "display_data"
    },
    {
     "data": {
      "text/plain": [
       "range(1, 26)"
      ]
     },
     "execution_count": 91,
     "metadata": {},
     "output_type": "execute_result"
    }
   ],
   "source": [
    "# Create a vertical bar chart and plot the Frequency on the y-axis and the `temp score` on the x-axis\n",
    "# Challenge: Try to plot the scores in descending order on the graph (The largest score is at the top)\n",
    "fig, ax = plt.subplots()\n",
    "ypos = range(1, len(Freq)+1)\n",
    "ax.barh(ypos, Freq[::+1])\n",
    "#---------------------------\n",
    "ax.set_xlabel(\"Frequency\")\n",
    "ax.set_ylabel(\"Temperature\")\n",
    "#ax.set_yticks(ypos)\n",
    "ax.set_yticklabels(temp_scores[::+1])\n",
    "#ax.set_title(\"Temperature Scores Frequencies\")\n",
    "#fig.tight_layout()\n",
    "plt.show()\n",
    "ypos"
   ]
  },
  {
   "cell_type": "code",
   "execution_count": 92,
   "metadata": {},
   "outputs": [
    {
     "data": {
      "image/png": "[encoded data removed]",
      "text/plain": [
       "<Figure size 432x288 with 1 Axes>"
      ]
     },
     "metadata": {
      "needs_background": "light"
     },
     "output_type": "display_data"
    }
   ],
   "source": [
    "# Create a vertical bar chart and plot the Frequency on the y-axis and the `temp score` on the x-axis\n",
    "# Challenge: Try to plot the scores in descending order on the graph (The largest score is at the top)\n",
    "fig, ax = plt.subplots()\n",
    "ypos = range(1, len(Freq)+1)\n",
    "ax.bar(ypos, Freq[::-1])\n",
    "#ax.bar(ypos, temp_scores[::-1])\n",
    "ax.set_xlabel(\"Frequency\")\n",
    "ax.set_ylabel(\"Temperature\")\n",
    "#ax.set_yticks(ypos)\n",
    "#ax.set_yticklabels(temp_scores[::-1])\n",
    "#ax.set_title(\"Temperature Scores Frequencies\")\n",
    "#fig.tight_layout()\n",
    "plt.show()"
   ]
  },
  {
   "cell_type": "code",
   "execution_count": 93,
   "metadata": {},
   "outputs": [],
   "source": [
    "\n",
    "# Choose the station with the highest number of temperature observations.\n",
    "# Query the last 12 months of temperature observation data for this station and plot the results as a histogram\n"
   ]
  },
  {
   "cell_type": "markdown",
   "metadata": {},
   "source": [
    "![precipitation](Images/station-histogram.png)"
   ]
  },
  {
   "cell_type": "code",
   "execution_count": 94,
   "metadata": {},
   "outputs": [
    {
     "name": "stdout",
     "output_type": "stream",
     "text": [
      "[(62.0, 69.57142857142857, 74.0)]\n"
     ]
    }
   ],
   "source": [
    "# ---------------------------------------------------------------------------------------------------\n",
    "# This function called `calc_temps` will accept start date and end date in the format '%Y-%m-%d' \n",
    "# and return the minimum, average, and maximum temperatures for that range of dates\n",
    "def calc_temps(start_date, end_date):\n",
    "    \"\"\"TMIN, TAVG, and TMAX for a list of dates.\n",
    "    Args:\n",
    "        start_date (string): A date string in the format %Y-%m-%d\n",
    "        end_date (string): A date string in the format %Y-%m-%d\n",
    "        \n",
    "    Returns:\n",
    "        TMIN, TAVE, and TMAX\n",
    "    \"\"\"  \n",
    "    return session.query(func.min(Measurement.tobs), func.avg(Measurement.tobs), func.max(Measurement.tobs)).\\\n",
    "        filter(Measurement.date >= start_date).filter(Measurement.date <= end_date).all()\n",
    "# function usage example\n",
    "print(calc_temps('2012-02-28', '2012-03-05'))"
   ]
  },
  {
   "cell_type": "code",
   "execution_count": 95,
   "metadata": {},
   "outputs": [
    {
     "name": "stdout",
     "output_type": "stream",
     "text": [
      "[(62.0, 69.57142857142857, 74.0)]\n"
     ]
    }
   ],
   "source": [
    "#------------------------------------------------------------------------------------------------\n",
    "# This function called `calc_temps` will accept start date and end date in the format '%Y-%m-%d' \n",
    "# and return the minimum, average, and maximum temperatures & more!! for that range of dates\n",
    "#------------------------------------------------------------------------------------------------\n",
    "def calc_temps(start_date, end_date):\n",
    "    \n",
    "    sel = [ \n",
    "       func.min(Measurement.tobs),  \n",
    "       func.avg(Measurement.tobs), \n",
    "       func.max(Measurement.tobs)]\n",
    "    querried_data = session.query(*sel).\\\n",
    "        filter(Measurement.date >= start_date).\\\n",
    "        filter(Measurement.date <= end_date).\\\n",
    "        order_by(func.sum(Measurement.tobs).desc()).all()\n",
    "\n",
    "    return(querried_data)\n",
    "\n",
    "print(calc_temps('2012-02-28', '2012-03-05'))"
   ]
  },
  {
   "cell_type": "code",
   "execution_count": 96,
   "metadata": {},
   "outputs": [],
   "source": [
    "# .   Two different Sets of Instructions!!!\n",
    "# From the program:\n",
    "# Use your previous function `calc_temps` to calculate the tmin, tavg, and tmax \n",
    "# for your trip using the previous year's data for those same dates.\n",
    "\n",
    "# From Gitlab:\n",
    "#Use the calc_temps function to calculate the min, avg, and max temperatures for your trip using the \n",
    "#matching dates from the previous year (i.e., use \"2017-01-01\" if your trip start date was \"2018-01-01\")."
   ]
  },
  {
   "cell_type": "code",
   "execution_count": 97,
   "metadata": {},
   "outputs": [
    {
     "name": "stdout",
     "output_type": "stream",
     "text": [
      "[(61.0, 69.75510204081633, 75.0)]\n"
     ]
    }
   ],
   "source": [
    "# .  shifted the year one year back\n",
    "print(calc_temps('2011-02-28', '2011-03-05'))"
   ]
  },
  {
   "cell_type": "code",
   "execution_count": 98,
   "metadata": {},
   "outputs": [
    {
     "data": {
      "text/plain": [
       "69.75510204081633"
      ]
     },
     "execution_count": 98,
     "metadata": {},
     "output_type": "execute_result"
    }
   ],
   "source": [
    "x=(calc_temps('2011-02-28', '2011-03-05'))\n",
    "avgTemp=x[0][1]\n",
    "avgTemp"
   ]
  },
  {
   "cell_type": "code",
   "execution_count": 99,
   "metadata": {},
   "outputs": [
    {
     "data": {
      "image/png": "[encoded data removed]",
      "text/plain": [
       "<Figure size 432x576 with 1 Axes>"
      ]
     },
     "metadata": {
      "needs_background": "light"
     },
     "output_type": "display_data"
    }
   ],
   "source": [
    "import pandas as pd\n",
    "import matplotlib.pyplot as plt\n",
    "\n",
    "fig, ax = plt.subplots()\n",
    "df = pd.DataFrame({\"val\":[avgTemp],\"error\":[10]})\n",
    "meansum = df[\"val\"]\n",
    "stdsum = df[\"error\"]\n",
    "ax.set_xlabel(\"---\")\n",
    "ax.set_ylabel(\"Trip Average Temperature\")\n",
    "plot = meansum.plot(kind='bar',yerr=stdsum,colormap='OrRd_r',edgecolor='black',\\\n",
    "                grid=False,figsize=(6,8),ax=ax,position=0.45,\\\n",
    "                    error_kw=dict(ecolor='black',elinewidth=20),width=0.8)\n",
    "plt.show()"
   ]
  },
  {
   "cell_type": "code",
   "execution_count": 100,
   "metadata": {},
   "outputs": [
    {
     "data": {
      "image/png": "[encoded data removed]",
      "text/plain": [
       "<Figure size 432x576 with 1 Axes>"
      ]
     },
     "metadata": {
      "needs_background": "light"
     },
     "output_type": "display_data"
    }
   ],
   "source": [
    "import pandas as pd\n",
    "import matplotlib.pyplot as plt\n",
    "\n",
    "fig, ax = plt.subplots()\n",
    "df = pd.DataFrame({\"val\":[69.755],\"error\":[10]})\n",
    "meansum = df[\"val\"]\n",
    "stdsum = df[\"error\"]\n",
    "ax.set_xlabel(\"---\")\n",
    "ax.set_ylabel(\"Trip Average Temperature\")\n",
    "plot = meansum.plot(kind='bar',yerr=stdsum,colormap='OrRd_r',edgecolor='black',\\\n",
    "                grid=False,figsize=(6,8),ax=ax,position=0.45,\\\n",
    "                    error_kw=dict(ecolor='black',elinewidth=20),width=0.8)\n",
    "plt.show()"
   ]
  },
  {
   "cell_type": "code",
   "execution_count": 101,
   "metadata": {},
   "outputs": [],
   "source": [
    "# Plot the results from your previous query as a bar chart. \n",
    "# Use \"Trip Avg Temp\" as your Title\n",
    "# Use the average temperature for the y value\n",
    "# Use the peak-to-peak (tmax-tmin) value as the y error bar (yerr)\n",
    "\n"
   ]
  },
  {
   "cell_type": "code",
   "execution_count": 102,
   "metadata": {},
   "outputs": [],
   "source": [
    "# Calculate the total amount of rainfall per weather station for your trip dates using the previous year's\n",
    "# matching dates.\n",
    "# Sort this in descending order by precipitation amount and list the station, name, latitude, \n",
    "# longitude, and elevation\n",
    "# This is done for Flask --------------------\n",
    "\n"
   ]
  },
  {
   "cell_type": "code",
   "execution_count": null,
   "metadata": {},
   "outputs": [],
   "source": []
  },
  {
   "cell_type": "markdown",
   "metadata": {},
   "source": [
    "## Optional Challenge Assignment"
   ]
  },
  {
   "cell_type": "code",
   "execution_count": 103,
   "metadata": {},
   "outputs": [
    {
     "data": {
      "text/plain": [
       "[(62.0, 69.15384615384616, 77.0)]"
      ]
     },
     "execution_count": 103,
     "metadata": {},
     "output_type": "execute_result"
    }
   ],
   "source": [
    "# Create a query that will calculate the daily normals \n",
    "# (i.e. the averages for tmin, tmax, and tavg for all historic data matching a specific month and day)\n",
    "def daily_normals(date):\n",
    "    #-----------------------------------------------------------------------------------------\n",
    "    #Daily Normals.\n",
    "    #Args:\n",
    "    #    date (str): A date string in the format '%m-%d'\n",
    "    #Returns:\n",
    "    #    A list of tuples containing the daily normals, tmin, tavg, and tmax\n",
    "    #------------------------------------------------------------------------------------------  \n",
    "    sel = [func.min(Measurement.tobs), func.avg(Measurement.tobs), func.max(Measurement.tobs)]\n",
    "    return session.query(*sel).filter(func.strftime(\"%m-%d\", Measurement.date) == date).all()\n",
    "    \n",
    "daily_normals(\"01-01\")"
   ]
  },
  {
   "cell_type": "code",
   "execution_count": 104,
   "metadata": {},
   "outputs": [
    {
     "name": "stdout",
     "output_type": "stream",
     "text": [
      "[(58.0, 74.14387974230493, 87.0)]\n"
     ]
    }
   ],
   "source": [
    "#------------------------------------------------------------------------------------\n",
    "# .                         M O R E      B O N U S ! \n",
    "#------------------------------------------------------------------------------------\n",
    "\n",
    "def daily_normals(normal_date):\n",
    "    \n",
    "    \n",
    "    sel = [ \n",
    "       func.min(Measurement.tobs),  \n",
    "       func.avg(Measurement.tobs), \n",
    "       func.max(Measurement.tobs)]\n",
    "    querried_data = session.query(*sel).\\\n",
    "        filter(Measurement.date >= '2017' + '-' + normal_date).\\\n",
    "        filter(Measurement.date <= '2020' + '-' + normal_date).\\\n",
    "        order_by(func.sum(Measurement.tobs).desc()).all()\n",
    "\n",
    "#    for q in querried_data:\n",
    "#        print(q)\n",
    "    \n",
    "    return(querried_data)\n",
    "\n",
    "print(daily_normals('01-01'))\n"
   ]
  },
  {
   "cell_type": "code",
   "execution_count": 105,
   "metadata": {},
   "outputs": [
    {
     "name": "stdout",
     "output_type": "stream",
     "text": [
      "[('2012-02-29', 62.0, 69.57142857142857, 74.0)]\n"
     ]
    }
   ],
   "source": [
    "#------------------------------------------------------------------------------------------------\n",
    "# This function called `calc_temps` will accept start date and end date in the format '%Y-%m-%d' \n",
    "# and return the minimum, average, and maximum temperatures & more!! for that range of dates\n",
    "#------------------------------------------------------------------------------------------------\n",
    "def calc_temps(start_date, end_date):\n",
    "    \n",
    "    sel = [ Measurement.date,\n",
    "       func.min(Measurement.tobs),  \n",
    "       func.avg(Measurement.tobs), \n",
    "       func.max(Measurement.tobs)]\n",
    "    querried_minmax = session.query(*sel).\\\n",
    "        filter(Measurement.date >= start_date).\\\n",
    "        filter(Measurement.date <= end_date).\\\n",
    "        order_by(func.sum(Measurement.tobs).desc()).all()\n",
    "\n",
    "    return(querried_minmax)\n",
    "\n",
    "print(calc_temps('2012-02-28', '2012-03-05'))"
   ]
  },
  {
   "cell_type": "code",
   "execution_count": 106,
   "metadata": {},
   "outputs": [],
   "source": [
    "# -----------------------------------------------------------------------------------------------\n",
    "# .        This section of the code can be executed only once!\n",
    "#--------------------------------------------------------------------------------------------------\n",
    "#-                                Added a column to SQLITE\n",
    "#-                          We cannot delete/drop this column as in SQL\n",
    "#-                          Hence I commented out the code, to avoid getting duplicate column error\n",
    "#-                          imported DDL in order to issue data definition language (DDL) for all constructs\n",
    "#-                                                                            Piruz Alemi  Jan 12th, 2020           \n",
    "#---------------------------------------------------------------------------------------------------\n",
    "#from sqlalchemy import DDL\n",
    "#add_column = DDL('ALTER TABLE Measurement ADD COLUMN mmdd VARCHAR(4)')\n",
    "#engine.execute(add_column)"
   ]
  },
  {
   "cell_type": "code",
   "execution_count": 107,
   "metadata": {
    "scrolled": false
   },
   "outputs": [],
   "source": [
    "#"
   ]
  },
  {
   "cell_type": "code",
   "execution_count": 108,
   "metadata": {},
   "outputs": [
    {
     "data": {
      "text/plain": [
       "date2\n",
       "<class 'datetime.date'>    0101\n",
       "<class 'datetime.date'>    0101\n",
       "<class 'datetime.date'>    0101\n",
       "<class 'datetime.date'>    0101\n",
       "<class 'datetime.date'>    0101\n",
       "                           ... \n",
       "<class 'datetime.date'>    0822\n",
       "<class 'datetime.date'>    0823\n",
       "<class 'datetime.date'>    0823\n",
       "<class 'datetime.date'>    0823\n",
       "<class 'datetime.date'>    0823\n",
       "Name: date, Length: 19550, dtype: object"
      ]
     },
     "execution_count": 108,
     "metadata": {},
     "output_type": "execute_result"
    }
   ],
   "source": [
    "from datetime import date\n",
    "\n",
    "start = date(year=2016,month=11,day=1)\n",
    "end = date(year=2016,month=11,day=30)\n",
    "\n",
    "#s = df2.date\n",
    "s=dfs.date\n",
    "# .  -----start, stop position parameters for slice ------\n",
    "year=s.str.slice(start=0, stop=4, step=1)\n",
    "month=s.str.slice(start=5, stop=7, step=1)\n",
    "day = s.str.slice(start=8, stop=12, step=1)\n",
    "mmdd=month + day\n",
    "\n",
    "#df2['mmdd_date'] = mmdd.astype(int)\n",
    "Measurement.mmdd = mmdd\n",
    "#df2.mmdd_date\n",
    "#df2\n",
    "Measurement.mmdd"
   ]
  },
  {
   "cell_type": "code",
   "execution_count": 109,
   "metadata": {},
   "outputs": [],
   "source": [
    "from sqlalchemy import select\n",
    "\n",
    "#q1 = select((Measurement.date.start, Measurement.date.end), Measurement.date.start==<date>)"
   ]
  },
  {
   "cell_type": "code",
   "execution_count": 110,
   "metadata": {
    "scrolled": false
   },
   "outputs": [],
   "source": [
    "# ------------------------------------------------------------------------------------------------\n",
    "#\n",
    "#                                   \n",
    "# ------------------------------------------------------------------------------------------------\n",
    "#def daily_normals(normal_date):\n",
    "#        \n",
    "#    sel = [ \n",
    "#       func.min(Measurement.tobs),  \n",
    "#       func.avg(Measurement.tobs), \n",
    "#       func.max(Measurement.tobs)]\n",
    "#    querried_data = session.query(*sel).\\\n",
    "#        filter(Measurement.mmdd == normal_date).\\\n",
    "#        order_by(func.sum(Measurement.tobs).desc()).all()\n",
    "#\n",
    "#    return(querried_data)\n",
    "#\n",
    "#print(daily_normals(12-02))"
   ]
  },
  {
   "cell_type": "code",
   "execution_count": 111,
   "metadata": {},
   "outputs": [],
   "source": [
    "# -----------------------------------------------------------------------------------------------------\n",
    "# calculate the daily normals for your trip\n",
    "# push each tuple of calculations into a list called `normals`\n",
    "# Set the start and end date of the trip\n",
    "# Use the start and end date to create a range of dates\n",
    "# Strip off the year and save a list of %m-%d strings\n",
    "# Loop through the list of %m-%d strings and calculate the normals for each date\n",
    "# -----------------------------------------------------------------------------------------------------\n",
    "# This section of the bonus is done via FLASK! See the querry in Flask as well as in this program just below\n",
    "# -             Filterd by a date range\n",
    "# ------------------------------------------------------------------------------------------------------\n"
   ]
  },
  {
   "cell_type": "code",
   "execution_count": null,
   "metadata": {},
   "outputs": [],
   "source": []
  },
  {
   "cell_type": "code",
   "execution_count": 112,
   "metadata": {},
   "outputs": [],
   "source": [
    "# Plot the daily normals as an area plot with `stacked=False`\n"
   ]
  },
  {
   "cell_type": "code",
   "execution_count": 113,
   "metadata": {},
   "outputs": [
    {
     "name": "stdout",
     "output_type": "stream",
     "text": [
      "[('2012-02-29', 62.0, 69.57142857142857, 74.0)]\n",
      "[{'date': '2012-07-26', 'tmin': 54.0, 'tavg': 72.20676691729324, 'tmax': 86.0}]\n"
     ]
    }
   ],
   "source": [
    "# -------------------------------------------------------------------------------------------------------\n",
    "# Load the previous query results into a Pandas DataFrame and add the `trip_dates` range as the `date` index\n",
    "# This coversion of Table Values to Data Frames was done before! similarly:\n",
    "# Though the concept of Trip dates remains alien! What trip?\n",
    "# ----------------------------------------------------------------------------------------------------------\n",
    "\n",
    "def calc_temps(start_date, end_date):\n",
    "    \n",
    "    sel = [ Measurement.date,\n",
    "       func.min(Measurement.tobs),  \n",
    "       func.avg(Measurement.tobs), \n",
    "       func.max(Measurement.tobs)]\n",
    "    querried_minmax = session.query(*sel).\\\n",
    "        filter(Measurement.date >= start_date).\\\n",
    "        filter(Measurement.date <= end_date).\\\n",
    "        order_by(func.sum(Measurement.tobs).desc()).all()\n",
    "\n",
    "    return(querried_minmax)\n",
    "\n",
    "print(calc_temps('2012-02-28', '2012-03-05'))\n",
    "\n",
    "def trip_dates(start_date, end_date):\n",
    "    # Create our session (link) from Python to the DB\n",
    "    #session = Session(engine)\n",
    "\n",
    "    # Return a list of stats including date, tmin, tavg, tmax\n",
    "    # These results were queried before, so no need to querry again!\n",
    "    #results = session.query(Measurement.date, Measurement.tobs).all()\n",
    "    #results = querried_minmax\n",
    "    sel = [ Measurement.date,\n",
    "       func.min(Measurement.tobs),  \n",
    "       func.avg(Measurement.tobs), \n",
    "       func.max(Measurement.tobs)]\n",
    "    querried_minmax = session.query(*sel).\\\n",
    "        filter(Measurement.date >= start_date).\\\n",
    "        filter(Measurement.date <= end_date).\\\n",
    "        order_by(func.sum(Measurement.tobs).desc()).all()\n",
    "\n",
    "    #session.close()\n",
    "    # --------------------------------------------------------------------------------------\n",
    "    # Create a dictionary from the row data of queried data and append to a list of trip_dates\n",
    "    # Create a Pandas Data Frame out of Dictionary (next line of codes - commented out)\n",
    "    # ----------------------------------------------------------------------------------------\n",
    "    all_stats = []\n",
    "    for date, tmin, tavg, tmax in querried_minmax:\n",
    "        stat_dict = {}\n",
    "        stat_dict[\"date\"] = date\n",
    "        stat_dict[\"tmin\"] = tmin\n",
    "        stat_dict[\"tavg\"] = tavg\n",
    "        stat_dict[\"tmax\"] = tmax\n",
    "        all_stats.append(stat_dict)\n",
    "    \n",
    "    return all_stats\n",
    "\n",
    "print(trip_dates('2012-02-28','2013-03-05'))\n",
    "                "
   ]
  },
  {
   "cell_type": "code",
   "execution_count": 114,
   "metadata": {},
   "outputs": [],
   "source": [
    "#trip_dates('2012-02-28','2013-03-05')\n",
    "#pd.DataFrame.from_dict(stat_dict, orient='index', columns=['date', 'tmin', 'tavg', 'tmax'])"
   ]
  },
  {
   "cell_type": "code",
   "execution_count": 184,
   "metadata": {},
   "outputs": [
    {
     "data": {
      "text/plain": [
       "<matplotlib.axes._subplots.AxesSubplot at 0x1a37feecd0>"
      ]
     },
     "execution_count": 184,
     "metadata": {},
     "output_type": "execute_result"
    },
    {
     "data": {
      "image/png": "[encoded data removed]",
      "text/plain": [
       "<Figure size 432x288 with 1 Axes>"
      ]
     },
     "metadata": {},
     "output_type": "display_data"
    }
   ],
   "source": [
    "#--------------------------------------------------------------------\n",
    "# An overlapped area plot\n",
    "# for a pandas DataFrame\n",
    "# import pandas as pd\n",
    "# import matplotlib.pyplot as plot\n",
    "# Peak Temperature data for two cities\n",
    "#--------------------------------------------------------------------\n",
    "tempData    = {\"tmin\":[62, 60, 62, 58],\n",
    "               \"tavg\":[69, 69.39, 68.90, 70],\n",
    "               \"tmax\":[77, 77, 77, 76]};             \n",
    "date     = (\"2018-01-01\", \"2018-02-01\", \"2018-03-01\", \"2018-04-01\");\n",
    "#--------------------------------------------------------------------\n",
    "#                     Create a DataFrame instance\n",
    "#--------------------------------------------------------------------\n",
    "dataFrame   = pd.DataFrame(tempData, index=date);\n",
    "#                Draw an area plot for the DataFrame data & Do not Stack them\n",
    "dataFrame.plot(kind='area', stacked=False)\n",
    "#plot.show(block=True);"
   ]
  },
  {
   "cell_type": "code",
   "execution_count": 185,
   "metadata": {},
   "outputs": [
    {
     "data": {
      "text/plain": [
       "{'date': '2010-01-01', 'prcp': 0.08}"
      ]
     },
     "execution_count": 185,
     "metadata": {},
     "output_type": "execute_result"
    }
   ],
   "source": [
    "results = session.query(Measurement.date, Measurement.prcp).all()\n",
    "     \n",
    "    # -------------------------------------------------------------------------------\n",
    "    # Create a dictionary from date & prcp and append to a list of all_dates\n",
    "    # -------------------------------------------------------------------------------\n",
    "all_measures = []\n",
    "for date, prcp in results:\n",
    "    measure_dict = {} \n",
    "    measure_dict[\"date\"] = date\n",
    "    measure_dict[\"prcp\"] = prcp\n",
    "    all_measures.append(measure_dict)\n",
    "    \n",
    "all_measures[0]"
   ]
  },
  {
   "cell_type": "code",
   "execution_count": 186,
   "metadata": {},
   "outputs": [
    {
     "data": {
      "text/plain": [
       "<matplotlib.axes._subplots.AxesSubplot at 0x1a323fb250>"
      ]
     },
     "execution_count": 186,
     "metadata": {},
     "output_type": "execute_result"
    },
    {
     "data": {
      "image/png": "[encoded data removed]",
      "text/plain": [
       "<Figure size 432x288 with 1 Axes>"
      ]
     },
     "metadata": {},
     "output_type": "display_data"
    },
    {
     "data": {
      "image/png": "[encoded data removed]",
      "text/plain": [
       "<Figure size 432x288 with 1 Axes>"
      ]
     },
     "metadata": {},
     "output_type": "display_data"
    }
   ],
   "source": [
    "df = pd.DataFrame({\n",
    "    'tmin': [62, 60, 58, 57, 68, 69],\n",
    "    'tavg': [65, 66, 73, 62, 75, 75],\n",
    "    'tmax': [70, 71, 78, 77, 79, 80],\n",
    "    }, index=pd.date_range(start='2018/01/01', end='2018/07/01',\n",
    "                         freq='M'))\n",
    "ax = df.plot.area()\n",
    "dataFrame.plot(kind='area', stacked=False)"
   ]
  },
  {
   "cell_type": "code",
   "execution_count": null,
   "metadata": {},
   "outputs": [],
   "source": []
  },
  {
   "cell_type": "code",
   "execution_count": null,
   "metadata": {},
   "outputs": [],
   "source": []
  }
 ],
 "metadata": {
  "kernel_info": {
   "name": "python3"
  },
  "kernelspec": {
   "display_name": "Python 3",
   "language": "python",
   "name": "python3"
  },
  "language_info": {
   "codemirror_mode": {
    "name": "ipython",
    "version": 3
   },
   "file_extension": ".py",
   "mimetype": "text/x-python",
   "name": "python",
   "nbconvert_exporter": "python",
   "pygments_lexer": "ipython3",
   "version": "3.7.4"
  },
  "nteract": {
   "version": "0.12.3"
  },
  "varInspector": {
   "cols": {
    "lenName": 16,
    "lenType": 16,
    "lenVar": 40
   },
   "kernels_config": {
    "python": {
     "delete_cmd_postfix": "",
     "delete_cmd_prefix": "del ",
     "library": "var_list.py",
     "varRefreshCmd": "print(var_dic_list())"
    },
    "r": {
     "delete_cmd_postfix": ") ",
     "delete_cmd_prefix": "rm(",
     "library": "var_list.r",
     "varRefreshCmd": "cat(var_dic_list()) "
    }
   },
   "types_to_exclude": [
    "module",
    "function",
    "builtin_function_or_method",
    "instance",
    "_Feature"
   ],
   "window_display": false
  }
 },
 "nbformat": 4,
 "nbformat_minor": 2
}
